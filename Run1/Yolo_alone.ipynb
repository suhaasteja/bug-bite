{
  "nbformat": 4,
  "nbformat_minor": 0,
  "metadata": {
    "colab": {
      "provenance": [],
      "gpuType": "T4"
    },
    "kernelspec": {
      "name": "python3",
      "display_name": "Python 3"
    },
    "language_info": {
      "name": "python"
    },
    "accelerator": "GPU"
  },
  "cells": [
    {
      "cell_type": "code",
      "source": [
        "from google.colab import drive\n",
        "drive.mount('/content/drive')"
      ],
      "metadata": {
        "colab": {
          "base_uri": "https://localhost:8080/"
        },
        "id": "pL0ebzKpILz0",
        "outputId": "bd5589aa-07aa-4a20-c955-712444feeff6"
      },
      "execution_count": 4,
      "outputs": [
        {
          "output_type": "stream",
          "name": "stdout",
          "text": [
            "Drive already mounted at /content/drive; to attempt to forcibly remount, call drive.mount(\"/content/drive\", force_remount=True).\n"
          ]
        }
      ]
    },
    {
      "cell_type": "code",
      "source": [
        "!pip install ultralytics"
      ],
      "metadata": {
        "colab": {
          "base_uri": "https://localhost:8080/"
        },
        "id": "oScspialIl9u",
        "outputId": "43b522f6-56f5-412a-9a2b-a8840b006b24"
      },
      "execution_count": 3,
      "outputs": [
        {
          "output_type": "stream",
          "name": "stdout",
          "text": [
            "Collecting ultralytics\n",
            "  Downloading ultralytics-8.3.3-py3-none-any.whl.metadata (34 kB)\n",
            "Requirement already satisfied: numpy<2.0.0,>=1.23.0 in /usr/local/lib/python3.10/dist-packages (from ultralytics) (1.26.4)\n",
            "Requirement already satisfied: matplotlib>=3.3.0 in /usr/local/lib/python3.10/dist-packages (from ultralytics) (3.7.1)\n",
            "Requirement already satisfied: opencv-python>=4.6.0 in /usr/local/lib/python3.10/dist-packages (from ultralytics) (4.10.0.84)\n",
            "Requirement already satisfied: pillow>=7.1.2 in /usr/local/lib/python3.10/dist-packages (from ultralytics) (10.4.0)\n",
            "Requirement already satisfied: pyyaml>=5.3.1 in /usr/local/lib/python3.10/dist-packages (from ultralytics) (6.0.2)\n",
            "Requirement already satisfied: requests>=2.23.0 in /usr/local/lib/python3.10/dist-packages (from ultralytics) (2.32.3)\n",
            "Requirement already satisfied: scipy>=1.4.1 in /usr/local/lib/python3.10/dist-packages (from ultralytics) (1.13.1)\n",
            "Requirement already satisfied: torch>=1.8.0 in /usr/local/lib/python3.10/dist-packages (from ultralytics) (2.4.1+cu121)\n",
            "Requirement already satisfied: torchvision>=0.9.0 in /usr/local/lib/python3.10/dist-packages (from ultralytics) (0.19.1+cu121)\n",
            "Requirement already satisfied: tqdm>=4.64.0 in /usr/local/lib/python3.10/dist-packages (from ultralytics) (4.66.5)\n",
            "Requirement already satisfied: psutil in /usr/local/lib/python3.10/dist-packages (from ultralytics) (5.9.5)\n",
            "Requirement already satisfied: py-cpuinfo in /usr/local/lib/python3.10/dist-packages (from ultralytics) (9.0.0)\n",
            "Requirement already satisfied: pandas>=1.1.4 in /usr/local/lib/python3.10/dist-packages (from ultralytics) (2.2.2)\n",
            "Requirement already satisfied: seaborn>=0.11.0 in /usr/local/lib/python3.10/dist-packages (from ultralytics) (0.13.1)\n",
            "Collecting ultralytics-thop>=2.0.0 (from ultralytics)\n",
            "  Downloading ultralytics_thop-2.0.8-py3-none-any.whl.metadata (9.3 kB)\n",
            "Requirement already satisfied: contourpy>=1.0.1 in /usr/local/lib/python3.10/dist-packages (from matplotlib>=3.3.0->ultralytics) (1.3.0)\n",
            "Requirement already satisfied: cycler>=0.10 in /usr/local/lib/python3.10/dist-packages (from matplotlib>=3.3.0->ultralytics) (0.12.1)\n",
            "Requirement already satisfied: fonttools>=4.22.0 in /usr/local/lib/python3.10/dist-packages (from matplotlib>=3.3.0->ultralytics) (4.54.1)\n",
            "Requirement already satisfied: kiwisolver>=1.0.1 in /usr/local/lib/python3.10/dist-packages (from matplotlib>=3.3.0->ultralytics) (1.4.7)\n",
            "Requirement already satisfied: packaging>=20.0 in /usr/local/lib/python3.10/dist-packages (from matplotlib>=3.3.0->ultralytics) (24.1)\n",
            "Requirement already satisfied: pyparsing>=2.3.1 in /usr/local/lib/python3.10/dist-packages (from matplotlib>=3.3.0->ultralytics) (3.1.4)\n",
            "Requirement already satisfied: python-dateutil>=2.7 in /usr/local/lib/python3.10/dist-packages (from matplotlib>=3.3.0->ultralytics) (2.8.2)\n",
            "Requirement already satisfied: pytz>=2020.1 in /usr/local/lib/python3.10/dist-packages (from pandas>=1.1.4->ultralytics) (2024.2)\n",
            "Requirement already satisfied: tzdata>=2022.7 in /usr/local/lib/python3.10/dist-packages (from pandas>=1.1.4->ultralytics) (2024.2)\n",
            "Requirement already satisfied: charset-normalizer<4,>=2 in /usr/local/lib/python3.10/dist-packages (from requests>=2.23.0->ultralytics) (3.3.2)\n",
            "Requirement already satisfied: idna<4,>=2.5 in /usr/local/lib/python3.10/dist-packages (from requests>=2.23.0->ultralytics) (3.10)\n",
            "Requirement already satisfied: urllib3<3,>=1.21.1 in /usr/local/lib/python3.10/dist-packages (from requests>=2.23.0->ultralytics) (2.2.3)\n",
            "Requirement already satisfied: certifi>=2017.4.17 in /usr/local/lib/python3.10/dist-packages (from requests>=2.23.0->ultralytics) (2024.8.30)\n",
            "Requirement already satisfied: filelock in /usr/local/lib/python3.10/dist-packages (from torch>=1.8.0->ultralytics) (3.16.1)\n",
            "Requirement already satisfied: typing-extensions>=4.8.0 in /usr/local/lib/python3.10/dist-packages (from torch>=1.8.0->ultralytics) (4.12.2)\n",
            "Requirement already satisfied: sympy in /usr/local/lib/python3.10/dist-packages (from torch>=1.8.0->ultralytics) (1.13.3)\n",
            "Requirement already satisfied: networkx in /usr/local/lib/python3.10/dist-packages (from torch>=1.8.0->ultralytics) (3.3)\n",
            "Requirement already satisfied: jinja2 in /usr/local/lib/python3.10/dist-packages (from torch>=1.8.0->ultralytics) (3.1.4)\n",
            "Requirement already satisfied: fsspec in /usr/local/lib/python3.10/dist-packages (from torch>=1.8.0->ultralytics) (2024.6.1)\n",
            "Requirement already satisfied: six>=1.5 in /usr/local/lib/python3.10/dist-packages (from python-dateutil>=2.7->matplotlib>=3.3.0->ultralytics) (1.16.0)\n",
            "Requirement already satisfied: MarkupSafe>=2.0 in /usr/local/lib/python3.10/dist-packages (from jinja2->torch>=1.8.0->ultralytics) (2.1.5)\n",
            "Requirement already satisfied: mpmath<1.4,>=1.1.0 in /usr/local/lib/python3.10/dist-packages (from sympy->torch>=1.8.0->ultralytics) (1.3.0)\n",
            "Downloading ultralytics-8.3.3-py3-none-any.whl (881 kB)\n",
            "\u001b[2K   \u001b[90m━━━━━━━━━━━━━━━━━━━━━━━━━━━━━━━━━━━━━━━━\u001b[0m \u001b[32m881.4/881.4 kB\u001b[0m \u001b[31m27.5 MB/s\u001b[0m eta \u001b[36m0:00:00\u001b[0m\n",
            "\u001b[?25hDownloading ultralytics_thop-2.0.8-py3-none-any.whl (26 kB)\n",
            "Installing collected packages: ultralytics-thop, ultralytics\n",
            "Successfully installed ultralytics-8.3.3 ultralytics-thop-2.0.8\n"
          ]
        }
      ]
    },
    {
      "cell_type": "code",
      "source": [
        "from ultralytics import YOLO\n",
        "import cv2\n",
        "import numpy as np\n",
        "from PIL import Image\n",
        "import os"
      ],
      "metadata": {
        "colab": {
          "base_uri": "https://localhost:8080/"
        },
        "id": "P28Rs26FIfh-",
        "outputId": "b806e569-1342-41dd-87cc-c300d6fcb32a"
      },
      "execution_count": 5,
      "outputs": [
        {
          "output_type": "stream",
          "name": "stdout",
          "text": [
            "Creating new Ultralytics Settings v0.0.6 file ✅ \n",
            "View Ultralytics Settings with 'yolo settings' or at '/root/.config/Ultralytics/settings.json'\n",
            "Update Settings with 'yolo settings key=value', i.e. 'yolo settings runs_dir=path/to/dir'. For help see https://docs.ultralytics.com/quickstart/#ultralytics-settings.\n"
          ]
        }
      ]
    },
    {
      "cell_type": "code",
      "execution_count": 6,
      "metadata": {
        "colab": {
          "base_uri": "https://localhost:8080/"
        },
        "id": "uhclhsk9IIgl",
        "outputId": "4df8279f-8356-4590-82bb-e684bdc3a5b0"
      },
      "outputs": [
        {
          "metadata": {
            "tags": null
          },
          "name": "stdout",
          "output_type": "stream",
          "text": [
            "Downloading https://github.com/ultralytics/assets/releases/download/v8.3.0/yolov8m-seg.pt to 'yolov8m-seg.pt'...\n"
          ]
        },
        {
          "metadata": {
            "tags": null
          },
          "name": "stderr",
          "output_type": "stream",
          "text": [
            "100%|██████████| 52.4M/52.4M [00:00<00:00, 90.4MB/s]\n"
          ]
        },
        {
          "metadata": {
            "tags": null
          },
          "name": "stdout",
          "output_type": "stream",
          "text": [
            "Ultralytics 8.3.3 🚀 Python-3.10.12 torch-2.4.1+cu121 CUDA:0 (Tesla T4, 15102MiB)\n",
            "\u001b[34m\u001b[1mengine/trainer: \u001b[0mtask=segment, mode=train, model=yolov8m-seg.pt, data=/content/drive/MyDrive/Research Project/data.yaml, epochs=100, time=None, patience=100, batch=16, imgsz=640, save=True, save_period=-1, cache=False, device=None, workers=8, project=None, name=train, exist_ok=False, pretrained=True, optimizer=auto, verbose=True, seed=0, deterministic=True, single_cls=False, rect=False, cos_lr=False, close_mosaic=10, resume=False, amp=True, fraction=1.0, profile=False, freeze=None, multi_scale=False, overlap_mask=True, mask_ratio=4, dropout=0.0, val=True, split=val, save_json=False, save_hybrid=False, conf=None, iou=0.7, max_det=300, half=False, dnn=False, plots=True, source=None, vid_stride=1, stream_buffer=False, visualize=False, augment=False, agnostic_nms=False, classes=None, retina_masks=False, embed=None, show=False, save_frames=False, save_txt=False, save_conf=False, save_crop=False, show_labels=True, show_conf=True, show_boxes=True, line_width=None, format=torchscript, keras=False, optimize=False, int8=False, dynamic=False, simplify=True, opset=None, workspace=4, nms=False, lr0=0.01, lrf=0.01, momentum=0.937, weight_decay=0.0005, warmup_epochs=3.0, warmup_momentum=0.8, warmup_bias_lr=0.1, box=7.5, cls=0.5, dfl=1.5, pose=12.0, kobj=1.0, label_smoothing=0.0, nbs=64, hsv_h=0.015, hsv_s=0.7, hsv_v=0.4, degrees=0.0, translate=0.1, scale=0.5, shear=0.0, perspective=0.0, flipud=0.0, fliplr=0.5, bgr=0.0, mosaic=1.0, mixup=0.0, copy_paste=0.0, copy_paste_mode=flip, auto_augment=randaugment, erasing=0.4, crop_fraction=1.0, cfg=None, tracker=botsort.yaml, save_dir=runs/segment/train\n",
            "Downloading https://ultralytics.com/assets/Arial.ttf to '/root/.config/Ultralytics/Arial.ttf'...\n"
          ]
        },
        {
          "metadata": {
            "tags": null
          },
          "name": "stderr",
          "output_type": "stream",
          "text": [
            "100%|██████████| 755k/755k [00:00<00:00, 24.7MB/s]\n"
          ]
        },
        {
          "metadata": {
            "tags": null
          },
          "name": "stdout",
          "output_type": "stream",
          "text": [
            "Overriding model.yaml nc=80 with nc=10\n",
            "\n",
            "                   from  n    params  module                                       arguments                     \n",
            "  0                  -1  1      1392  ultralytics.nn.modules.conv.Conv             [3, 48, 3, 2]                 \n",
            "  1                  -1  1     41664  ultralytics.nn.modules.conv.Conv             [48, 96, 3, 2]                \n",
            "  2                  -1  2    111360  ultralytics.nn.modules.block.C2f             [96, 96, 2, True]             \n",
            "  3                  -1  1    166272  ultralytics.nn.modules.conv.Conv             [96, 192, 3, 2]               \n",
            "  4                  -1  4    813312  ultralytics.nn.modules.block.C2f             [192, 192, 4, True]           \n",
            "  5                  -1  1    664320  ultralytics.nn.modules.conv.Conv             [192, 384, 3, 2]              \n",
            "  6                  -1  4   3248640  ultralytics.nn.modules.block.C2f             [384, 384, 4, True]           \n",
            "  7                  -1  1   1991808  ultralytics.nn.modules.conv.Conv             [384, 576, 3, 2]              \n",
            "  8                  -1  2   3985920  ultralytics.nn.modules.block.C2f             [576, 576, 2, True]           \n",
            "  9                  -1  1    831168  ultralytics.nn.modules.block.SPPF            [576, 576, 5]                 \n",
            " 10                  -1  1         0  torch.nn.modules.upsampling.Upsample         [None, 2, 'nearest']          \n",
            " 11             [-1, 6]  1         0  ultralytics.nn.modules.conv.Concat           [1]                           \n",
            " 12                  -1  2   1993728  ultralytics.nn.modules.block.C2f             [960, 384, 2]                 \n",
            " 13                  -1  1         0  torch.nn.modules.upsampling.Upsample         [None, 2, 'nearest']          \n",
            " 14             [-1, 4]  1         0  ultralytics.nn.modules.conv.Concat           [1]                           \n",
            " 15                  -1  2    517632  ultralytics.nn.modules.block.C2f             [576, 192, 2]                 \n",
            " 16                  -1  1    332160  ultralytics.nn.modules.conv.Conv             [192, 192, 3, 2]              \n",
            " 17            [-1, 12]  1         0  ultralytics.nn.modules.conv.Concat           [1]                           \n",
            " 18                  -1  2   1846272  ultralytics.nn.modules.block.C2f             [576, 384, 2]                 \n",
            " 19                  -1  1   1327872  ultralytics.nn.modules.conv.Conv             [384, 384, 3, 2]              \n",
            " 20             [-1, 9]  1         0  ultralytics.nn.modules.conv.Concat           [1]                           \n",
            " 21                  -1  2   4207104  ultralytics.nn.modules.block.C2f             [960, 576, 2]                 \n",
            " 22        [15, 18, 21]  1   2529614  ultralytics.nn.modules.head.Segment          [10, 32, 192, [192, 384, 576]]\n",
            "YOLOv8m-seg summary: 355 layers, 24,610,238 parameters, 24,610,222 gradients, 99.2 GFLOPs\n",
            "\n",
            "Transferred 495/573 items from pretrained weights\n",
            "\u001b[34m\u001b[1mTensorBoard: \u001b[0mStart with 'tensorboard --logdir runs/segment/train', view at http://localhost:6006/\n",
            "Freezing layer 'model.22.dfl.conv.weight'\n",
            "\u001b[34m\u001b[1mAMP: \u001b[0mrunning Automatic Mixed Precision (AMP) checks with YOLO11n...\n",
            "Downloading https://github.com/ultralytics/assets/releases/download/v8.3.0/yolo11n.pt to 'yolo11n.pt'...\n"
          ]
        },
        {
          "metadata": {
            "tags": null
          },
          "name": "stderr",
          "output_type": "stream",
          "text": [
            "100%|██████████| 5.35M/5.35M [00:00<00:00, 107MB/s]\n"
          ]
        },
        {
          "metadata": {
            "tags": null
          },
          "name": "stdout",
          "output_type": "stream",
          "text": [
            "\u001b[34m\u001b[1mAMP: \u001b[0mchecks passed ✅\n"
          ]
        },
        {
          "metadata": {
            "tags": null
          },
          "name": "stderr",
          "output_type": "stream",
          "text": [
            "\u001b[34m\u001b[1mtrain: \u001b[0mScanning /content/drive/MyDrive/Research Project/images/train/labels... 1207 images, 16 backgrounds, 39 corrupt: 100%|██████████| 1207/1207 [08:20<00:00,  2.41it/s]"
          ]
        },
        {
          "metadata": {
            "tags": null
          },
          "name": "stdout",
          "output_type": "stream",
          "text": [
            "\u001b[34m\u001b[1mtrain: \u001b[0mWARNING ⚠️ /content/drive/MyDrive/Research Project/images/train/images/Captura-de-pantalla-2018-11-15-a-las-14-53-26-8th-copy-_png.rf.d9a32e6b32d18b255fb5746c285a80bd.jpg: ignoring corrupt image/label: non-normalized or out of bounds coordinates [     1.0532      1.1395]\n",
            "\u001b[34m\u001b[1mtrain: \u001b[0mWARNING ⚠️ /content/drive/MyDrive/Research Project/images/train/images/ants_0_3582_jpeg.rf.7bc19fd462decd212854a833ce358373.jpg: ignoring corrupt image/label: non-normalized or out of bounds coordinates [     1.2969      1.2323]\n",
            "\u001b[34m\u001b[1mtrain: \u001b[0mWARNING ⚠️ /content/drive/MyDrive/Research Project/images/train/images/ants_0_4755_jpeg.rf.a1c5c466343b9dc899c5d04b59e0d13c.jpg: ignoring corrupt image/label: non-normalized or out of bounds coordinates [     1.2446]\n",
            "\u001b[34m\u001b[1mtrain: \u001b[0mWARNING ⚠️ /content/drive/MyDrive/Research Project/images/train/images/ants_0_6190_jpeg.rf.26dede178c069472a069b9e6a7974bef.jpg: ignoring corrupt image/label: non-normalized or out of bounds coordinates [     1.1538]\n",
            "\u001b[34m\u001b[1mtrain: \u001b[0mWARNING ⚠️ /content/drive/MyDrive/Research Project/images/train/images/brown_recluse_spiderimage587_jpg.rf.15095217888a1606c9b524345263030d.jpg: ignoring corrupt image/label: non-normalized or out of bounds coordinates [     1.1822]\n",
            "\u001b[34m\u001b[1mtrain: \u001b[0mWARNING ⚠️ /content/drive/MyDrive/Research Project/images/train/images/chiggers_legimage205_jpg.rf.1a8a637d648b1e7830e7e90096fff3b8.jpg: ignoring corrupt image/label: non-normalized or out of bounds coordinates [        1.3      1.1821]\n",
            "\u001b[34m\u001b[1mtrain: \u001b[0mWARNING ⚠️ /content/drive/MyDrive/Research Project/images/train/images/es_spidersimage10_jpg.rf.edd0221cc8ec13f59759a16a89b3ce71.jpg: ignoring corrupt image/label: non-normalized or out of bounds coordinates [     1.0718]\n",
            "\u001b[34m\u001b[1mtrain: \u001b[0mWARNING ⚠️ /content/drive/MyDrive/Research Project/images/train/images/es_spidersimage78_jpg.rf.255a64da59dc1b336688d8cd2768d944.jpg: ignoring corrupt image/label: non-normalized or out of bounds coordinates [     1.0082]\n",
            "\u001b[34m\u001b[1mtrain: \u001b[0mWARNING ⚠️ /content/drive/MyDrive/Research Project/images/train/images/fire_antsimage6-2-_jpg.rf.86b7164e35ae87a97ea92547eb9a8f6a.jpg: ignoring corrupt image/label: non-normalized or out of bounds coordinates [     1.0082]\n",
            "\u001b[34m\u001b[1mtrain: \u001b[0mWARNING ⚠️ /content/drive/MyDrive/Research Project/images/train/images/goose_bumpimage109_jpg.rf.cfb021fb22d35adadc8e87efa275a440.jpg: ignoring corrupt image/label: non-normalized or out of bounds coordinates [     1.0013]\n",
            "\u001b[34m\u001b[1mtrain: \u001b[0mWARNING ⚠️ /content/drive/MyDrive/Research Project/images/train/images/goose_bumpimage204_jpg.rf.b2f5dbdb0f453268e3c101d9756c6e14.jpg: ignoring corrupt image/label: non-normalized or out of bounds coordinates [     1.0098]\n",
            "\u001b[34m\u001b[1mtrain: \u001b[0mWARNING ⚠️ /content/drive/MyDrive/Research Project/images/train/images/goose_bumpimage212_jpg.rf.2c87adeec8030ed38fdd42ff95ded239.jpg: ignoring corrupt image/label: non-normalized or out of bounds coordinates [     1.0062]\n",
            "\u001b[34m\u001b[1mtrain: \u001b[0mWARNING ⚠️ /content/drive/MyDrive/Research Project/images/train/images/goose_bumpimage270_jpg.rf.143bbda76f982c0078eb5d3a7dc97dff.jpg: ignoring corrupt image/label: non-normalized or out of bounds coordinates [     1.0403]\n",
            "\u001b[34m\u001b[1mtrain: \u001b[0mWARNING ⚠️ /content/drive/MyDrive/Research Project/images/train/images/goose_bumpimage280_jpg.rf.d9fb9913243491bbd1cd78f68e23b1cb.jpg: ignoring corrupt image/label: non-normalized or out of bounds coordinates [      1.506]\n",
            "\u001b[34m\u001b[1mtrain: \u001b[0mWARNING ⚠️ /content/drive/MyDrive/Research Project/images/train/images/goose_bumpimage293_jpg.rf.f2436e22333a5bcbbde978a4cc27edc0.jpg: ignoring corrupt image/label: non-normalized or out of bounds coordinates [     1.1926       1.088]\n",
            "\u001b[34m\u001b[1mtrain: \u001b[0mWARNING ⚠️ /content/drive/MyDrive/Research Project/images/train/images/goose_bumpimage300_jpg.rf.af293e4508bc9aaa000f97c620b7b78d.jpg: ignoring corrupt image/label: non-normalized or out of bounds coordinates [     1.1698]\n",
            "\u001b[34m\u001b[1mtrain: \u001b[0mWARNING ⚠️ /content/drive/MyDrive/Research Project/images/train/images/goose_bumpimage307_jpg.rf.c2fcf5bb27bd38e609e6a039980249b6.jpg: ignoring corrupt image/label: non-normalized or out of bounds coordinates [      1.001]\n",
            "\u001b[34m\u001b[1mtrain: \u001b[0mWARNING ⚠️ /content/drive/MyDrive/Research Project/images/train/images/goose_bumpimage310_jpg.rf.2ddfca0dc170e7746bd25b325394f7ff.jpg: ignoring corrupt image/label: non-normalized or out of bounds coordinates [     1.0231      1.2339]\n",
            "\u001b[34m\u001b[1mtrain: \u001b[0mWARNING ⚠️ /content/drive/MyDrive/Research Project/images/train/images/goose_bumpimage373_jpg.rf.99369da9b6b880986df197094c5f4957.jpg: ignoring corrupt image/label: non-normalized or out of bounds coordinates [     1.4193      1.1295]\n",
            "\u001b[34m\u001b[1mtrain: \u001b[0mWARNING ⚠️ /content/drive/MyDrive/Research Project/images/train/images/goose_bumpimage376_jpg.rf.a185dd68707b596217ca40502f3b4cc7.jpg: ignoring corrupt image/label: non-normalized or out of bounds coordinates [     1.1042]\n",
            "\u001b[34m\u001b[1mtrain: \u001b[0mWARNING ⚠️ /content/drive/MyDrive/Research Project/images/train/images/goose_bumpimage380_jpg.rf.c3af2790528b43c6376bf58d51251176.jpg: ignoring corrupt image/label: non-normalized or out of bounds coordinates [     1.0932]\n",
            "\u001b[34m\u001b[1mtrain: \u001b[0mWARNING ⚠️ /content/drive/MyDrive/Research Project/images/train/images/goose_bumpimage484_jpg.rf.657380784aabf91ee77728cdee235e2f.jpg: ignoring corrupt image/label: non-normalized or out of bounds coordinates [     1.2047]\n",
            "\u001b[34m\u001b[1mtrain: \u001b[0mWARNING ⚠️ /content/drive/MyDrive/Research Project/images/train/images/goose_bumpimage578_jpg.rf.e3897604734f50c0e9e6c0d219844a8b.jpg: ignoring corrupt image/label: non-normalized or out of bounds coordinates [     1.1049      1.6124]\n",
            "\u001b[34m\u001b[1mtrain: \u001b[0mWARNING ⚠️ /content/drive/MyDrive/Research Project/images/train/images/goose_bumpimage672_jpg.rf.4b8c49cc42ace4952908672a47bca917.jpg: ignoring corrupt image/label: non-normalized or out of bounds coordinates [     1.5695      1.1835]\n",
            "\u001b[34m\u001b[1mtrain: \u001b[0mWARNING ⚠️ /content/drive/MyDrive/Research Project/images/train/images/goose_bumpimage722_jpg.rf.7d9e6852a54723c3b5dbf0ba72371bf5.jpg: ignoring corrupt image/label: non-normalized or out of bounds coordinates [     1.1125]\n",
            "\u001b[34m\u001b[1mtrain: \u001b[0mWARNING ⚠️ /content/drive/MyDrive/Research Project/images/train/images/goose_bumpimage729_jpg.rf.7173915b4401daecd35534d133b35ee6.jpg: ignoring corrupt image/label: non-normalized or out of bounds coordinates [     1.0069]\n",
            "\u001b[34m\u001b[1mtrain: \u001b[0mWARNING ⚠️ /content/drive/MyDrive/Research Project/images/train/images/goose_bumpimage734_jpg.rf.546d178203b050e76bf0743be34c620f.jpg: ignoring corrupt image/label: non-normalized or out of bounds coordinates [     1.0716      1.0828]\n",
            "\u001b[34m\u001b[1mtrain: \u001b[0mWARNING ⚠️ /content/drive/MyDrive/Research Project/images/train/images/none-0_jpg.rf.85e1e5f9411592f3e9e82d7373d12471.jpg: ignoring corrupt image/label: non-normalized or out of bounds coordinates [     1.0324]\n",
            "\u001b[34m\u001b[1mtrain: \u001b[0mWARNING ⚠️ /content/drive/MyDrive/Research Project/images/train/images/none-16_jpg.rf.3e3ff04d59917dda0970f076b614fd67.jpg: ignoring corrupt image/label: non-normalized or out of bounds coordinates [     1.0621]\n",
            "\u001b[34m\u001b[1mtrain: \u001b[0mWARNING ⚠️ /content/drive/MyDrive/Research Project/images/train/images/none-19_jpg.rf.1b6775e22ea2a819c0f52432ab0b043d.jpg: ignoring corrupt image/label: non-normalized or out of bounds coordinates [     1.1406      1.3966]\n",
            "\u001b[34m\u001b[1mtrain: \u001b[0mWARNING ⚠️ /content/drive/MyDrive/Research Project/images/train/images/none-1_jpg.rf.23b7dab7308aa00ab42562bf4bd3261d.jpg: ignoring corrupt image/label: non-normalized or out of bounds coordinates [     1.1837]\n",
            "\u001b[34m\u001b[1mtrain: \u001b[0mWARNING ⚠️ /content/drive/MyDrive/Research Project/images/train/images/none-4_jpg.rf.bfc3ded0835ea1cbc6a3ced90f997d48.jpg: ignoring corrupt image/label: non-normalized or out of bounds coordinates [     1.4843      1.2076]\n",
            "\u001b[34m\u001b[1mtrain: \u001b[0mWARNING ⚠️ /content/drive/MyDrive/Research Project/images/train/images/none-5_jpg.rf.f2f53514cdbdbda602f4c84d8656d5ea.jpg: ignoring corrupt image/label: non-normalized or out of bounds coordinates [     1.0581]\n",
            "\u001b[34m\u001b[1mtrain: \u001b[0mWARNING ⚠️ /content/drive/MyDrive/Research Project/images/train/images/spiders_0_1429_jpeg.rf.b1f4c15890adcf154fbe6a58dab94478.jpg: ignoring corrupt image/label: non-normalized or out of bounds coordinates [     1.2468]\n",
            "\u001b[34m\u001b[1mtrain: \u001b[0mWARNING ⚠️ /content/drive/MyDrive/Research Project/images/train/images/spiders_0_3248_jpeg.rf.f4287667f82cc1b35ccfc0508b0b8875.jpg: ignoring corrupt image/label: non-normalized or out of bounds coordinates [      1.063]\n",
            "\u001b[34m\u001b[1mtrain: \u001b[0mWARNING ⚠️ /content/drive/MyDrive/Research Project/images/train/images/ticks_0_1378_jpeg.rf.81cf62dd29731b34a1d2c883bf1bdb8a.jpg: ignoring corrupt image/label: non-normalized or out of bounds coordinates [     1.8335]\n",
            "\u001b[34m\u001b[1mtrain: \u001b[0mWARNING ⚠️ /content/drive/MyDrive/Research Project/images/train/images/ticks_0_1700_jpeg.rf.d7aa7148e2780f90f7146658ce44f7a0.jpg: ignoring corrupt image/label: non-normalized or out of bounds coordinates [     1.0331]\n",
            "\u001b[34m\u001b[1mtrain: \u001b[0mWARNING ⚠️ /content/drive/MyDrive/Research Project/images/train/images/ticks_0_2752_jpeg.rf.32a71fbf411c58101096dbb18d83dfd3.jpg: ignoring corrupt image/label: non-normalized or out of bounds coordinates [      1.371]\n",
            "\u001b[34m\u001b[1mtrain: \u001b[0mWARNING ⚠️ /content/drive/MyDrive/Research Project/images/train/images/ticksimage91_jpg.rf.a9bf71a940332f973cc7948e1f395ed9.jpg: ignoring corrupt image/label: non-normalized or out of bounds coordinates [     1.0493]\n"
          ]
        },
        {
          "metadata": {
            "tags": null
          },
          "name": "stderr",
          "output_type": "stream",
          "text": [
            "\n"
          ]
        },
        {
          "metadata": {
            "tags": null
          },
          "name": "stdout",
          "output_type": "stream",
          "text": [
            "\u001b[34m\u001b[1mtrain: \u001b[0mNew cache created: /content/drive/MyDrive/Research Project/images/train/labels.cache\n",
            "\u001b[34m\u001b[1malbumentations: \u001b[0mBlur(p=0.01, blur_limit=(3, 7)), MedianBlur(p=0.01, blur_limit=(3, 7)), ToGray(p=0.01, num_output_channels=3, method='weighted_average'), CLAHE(p=0.01, clip_limit=(1, 4.0), tile_grid_size=(8, 8))\n"
          ]
        },
        {
          "metadata": {
            "tags": null
          },
          "name": "stderr",
          "output_type": "stream",
          "text": [
            "/usr/local/lib/python3.10/dist-packages/albumentations/__init__.py:13: UserWarning: A new version of Albumentations is available: 1.4.17 (you have 1.4.15). Upgrade using: pip install -U albumentations. To disable automatic update checks, set the environment variable NO_ALBUMENTATIONS_UPDATE to 1.\n",
            "  check_for_updates()\n",
            "\u001b[34m\u001b[1mval: \u001b[0mScanning /content/drive/MyDrive/Research Project/images/valid/labels... 76 images, 1 backgrounds, 2 corrupt: 100%|██████████| 76/76 [01:06<00:00,  1.14it/s]"
          ]
        },
        {
          "metadata": {
            "tags": null
          },
          "name": "stdout",
          "output_type": "stream",
          "text": [
            "\u001b[34m\u001b[1mval: \u001b[0mWARNING ⚠️ /content/drive/MyDrive/Research Project/images/valid/images/es_spidersimage276_jpg.rf.613af57509b416d4191eb827e86ac535.jpg: ignoring corrupt image/label: non-normalized or out of bounds coordinates [     1.1002]\n",
            "\u001b[34m\u001b[1mval: \u001b[0mWARNING ⚠️ /content/drive/MyDrive/Research Project/images/valid/images/ticksimage406_jpg.rf.71695e30f972b2c2de6c6a58385e79e9.jpg: ignoring corrupt image/label: non-normalized or out of bounds coordinates [     1.2357]\n",
            "\u001b[34m\u001b[1mval: \u001b[0mNew cache created: /content/drive/MyDrive/Research Project/images/valid/labels.cache\n"
          ]
        },
        {
          "metadata": {
            "tags": null
          },
          "name": "stderr",
          "output_type": "stream",
          "text": [
            "\n"
          ]
        },
        {
          "metadata": {
            "tags": null
          },
          "name": "stdout",
          "output_type": "stream",
          "text": [
            "Plotting labels to runs/segment/train/labels.jpg... \n",
            "\u001b[34m\u001b[1moptimizer:\u001b[0m 'optimizer=auto' found, ignoring 'lr0=0.01' and 'momentum=0.937' and determining best 'optimizer', 'lr0' and 'momentum' automatically... \n",
            "\u001b[34m\u001b[1moptimizer:\u001b[0m AdamW(lr=0.000714, momentum=0.9) with parameter groups 92 weight(decay=0.0), 103 weight(decay=0.0005), 102 bias(decay=0.0)\n",
            "\u001b[34m\u001b[1mTensorBoard: \u001b[0mmodel graph visualization added ✅\n",
            "Image sizes 640 train, 640 val\n",
            "Using 2 dataloader workers\n",
            "Logging results to \u001b[1mruns/segment/train\u001b[0m\n",
            "Starting training for 100 epochs...\n",
            "\n",
            "      Epoch    GPU_mem   box_loss   seg_loss   cls_loss   dfl_loss  Instances       Size\n"
          ]
        },
        {
          "metadata": {
            "tags": null
          },
          "name": "stderr",
          "output_type": "stream",
          "text": [
            "      1/100      8.32G      1.964      3.061      3.861      1.617         96        640: 100%|██████████| 73/73 [01:03<00:00,  1.15it/s]\n",
            "                 Class     Images  Instances      Box(P          R      mAP50  mAP50-95)     Mask(P          R      mAP50  mAP50-95): 100%|██████████| 3/3 [00:02<00:00,  1.11it/s]"
          ]
        },
        {
          "metadata": {
            "tags": null
          },
          "name": "stdout",
          "output_type": "stream",
          "text": [
            "                   all         74        296     0.0164       0.24     0.0893     0.0387     0.0166      0.238     0.0951     0.0416\n"
          ]
        },
        {
          "metadata": {
            "tags": null
          },
          "name": "stderr",
          "output_type": "stream",
          "text": [
            "\n"
          ]
        },
        {
          "metadata": {
            "tags": null
          },
          "name": "stdout",
          "output_type": "stream",
          "text": [
            "\n",
            "      Epoch    GPU_mem   box_loss   seg_loss   cls_loss   dfl_loss  Instances       Size\n"
          ]
        },
        {
          "metadata": {
            "tags": null
          },
          "name": "stderr",
          "output_type": "stream",
          "text": [
            "      2/100      8.23G      1.922      2.601      2.925      1.634        131        640: 100%|██████████| 73/73 [00:59<00:00,  1.22it/s]\n",
            "                 Class     Images  Instances      Box(P          R      mAP50  mAP50-95)     Mask(P          R      mAP50  mAP50-95): 100%|██████████| 3/3 [00:01<00:00,  1.83it/s]"
          ]
        },
        {
          "metadata": {
            "tags": null
          },
          "name": "stdout",
          "output_type": "stream",
          "text": [
            "                   all         74        296      0.591      0.136      0.165     0.0658      0.588      0.109      0.146     0.0589\n"
          ]
        },
        {
          "metadata": {
            "tags": null
          },
          "name": "stderr",
          "output_type": "stream",
          "text": [
            "\n"
          ]
        },
        {
          "metadata": {
            "tags": null
          },
          "name": "stdout",
          "output_type": "stream",
          "text": [
            "\n",
            "      Epoch    GPU_mem   box_loss   seg_loss   cls_loss   dfl_loss  Instances       Size\n"
          ]
        },
        {
          "metadata": {
            "tags": null
          },
          "name": "stderr",
          "output_type": "stream",
          "text": [
            "      3/100      8.26G       1.94      2.596      2.839      1.623         64        640: 100%|██████████| 73/73 [00:58<00:00,  1.25it/s]\n",
            "                 Class     Images  Instances      Box(P          R      mAP50  mAP50-95)     Mask(P          R      mAP50  mAP50-95): 100%|██████████| 3/3 [00:01<00:00,  1.86it/s]"
          ]
        },
        {
          "metadata": {
            "tags": null
          },
          "name": "stdout",
          "output_type": "stream",
          "text": [
            "                   all         74        296      0.438      0.142      0.112     0.0496      0.444      0.148       0.11     0.0439\n"
          ]
        },
        {
          "metadata": {
            "tags": null
          },
          "name": "stderr",
          "output_type": "stream",
          "text": [
            "\n"
          ]
        },
        {
          "metadata": {
            "tags": null
          },
          "name": "stdout",
          "output_type": "stream",
          "text": [
            "\n",
            "      Epoch    GPU_mem   box_loss   seg_loss   cls_loss   dfl_loss  Instances       Size\n"
          ]
        },
        {
          "metadata": {
            "tags": null
          },
          "name": "stderr",
          "output_type": "stream",
          "text": [
            "      4/100      8.33G      1.915       2.54      2.736      1.643        100        640: 100%|██████████| 73/73 [00:57<00:00,  1.27it/s]\n",
            "                 Class     Images  Instances      Box(P          R      mAP50  mAP50-95)     Mask(P          R      mAP50  mAP50-95): 100%|██████████| 3/3 [00:01<00:00,  1.60it/s]"
          ]
        },
        {
          "metadata": {
            "tags": null
          },
          "name": "stdout",
          "output_type": "stream",
          "text": [
            "                   all         74        296      0.469      0.131      0.132     0.0684      0.447      0.156      0.125       0.06\n"
          ]
        },
        {
          "metadata": {
            "tags": null
          },
          "name": "stderr",
          "output_type": "stream",
          "text": [
            "\n"
          ]
        },
        {
          "metadata": {
            "tags": null
          },
          "name": "stdout",
          "output_type": "stream",
          "text": [
            "\n",
            "      Epoch    GPU_mem   box_loss   seg_loss   cls_loss   dfl_loss  Instances       Size\n"
          ]
        },
        {
          "metadata": {
            "tags": null
          },
          "name": "stderr",
          "output_type": "stream",
          "text": [
            "      5/100      8.32G      1.922      2.596      2.544      1.583        107        640: 100%|██████████| 73/73 [00:58<00:00,  1.25it/s]\n",
            "                 Class     Images  Instances      Box(P          R      mAP50  mAP50-95)     Mask(P          R      mAP50  mAP50-95): 100%|██████████| 3/3 [00:02<00:00,  1.38it/s]"
          ]
        },
        {
          "metadata": {
            "tags": null
          },
          "name": "stdout",
          "output_type": "stream",
          "text": [
            "                   all         74        296      0.545      0.228      0.244      0.124       0.55      0.234      0.243      0.115\n"
          ]
        },
        {
          "metadata": {
            "tags": null
          },
          "name": "stderr",
          "output_type": "stream",
          "text": [
            "\n"
          ]
        },
        {
          "metadata": {
            "tags": null
          },
          "name": "stdout",
          "output_type": "stream",
          "text": [
            "\n",
            "      Epoch    GPU_mem   box_loss   seg_loss   cls_loss   dfl_loss  Instances       Size\n"
          ]
        },
        {
          "metadata": {
            "tags": null
          },
          "name": "stderr",
          "output_type": "stream",
          "text": [
            "      6/100      8.28G      1.887      2.539      2.449      1.587        146        640: 100%|██████████| 73/73 [00:57<00:00,  1.26it/s]\n",
            "                 Class     Images  Instances      Box(P          R      mAP50  mAP50-95)     Mask(P          R      mAP50  mAP50-95): 100%|██████████| 3/3 [00:01<00:00,  1.89it/s]"
          ]
        },
        {
          "metadata": {
            "tags": null
          },
          "name": "stdout",
          "output_type": "stream",
          "text": [
            "                   all         74        296      0.416      0.249      0.214      0.104      0.596      0.178      0.216     0.0978\n"
          ]
        },
        {
          "metadata": {
            "tags": null
          },
          "name": "stderr",
          "output_type": "stream",
          "text": [
            "\n"
          ]
        },
        {
          "metadata": {
            "tags": null
          },
          "name": "stdout",
          "output_type": "stream",
          "text": [
            "\n",
            "      Epoch    GPU_mem   box_loss   seg_loss   cls_loss   dfl_loss  Instances       Size\n"
          ]
        },
        {
          "metadata": {
            "tags": null
          },
          "name": "stderr",
          "output_type": "stream",
          "text": [
            "      7/100      8.36G      1.846      2.489      2.429      1.538         97        640: 100%|██████████| 73/73 [00:58<00:00,  1.26it/s]\n",
            "                 Class     Images  Instances      Box(P          R      mAP50  mAP50-95)     Mask(P          R      mAP50  mAP50-95): 100%|██████████| 3/3 [00:01<00:00,  1.88it/s]"
          ]
        },
        {
          "metadata": {
            "tags": null
          },
          "name": "stdout",
          "output_type": "stream",
          "text": [
            "                   all         74        296      0.583      0.221      0.191     0.0952      0.583       0.22      0.193     0.0936\n"
          ]
        },
        {
          "metadata": {
            "tags": null
          },
          "name": "stderr",
          "output_type": "stream",
          "text": [
            "\n"
          ]
        },
        {
          "metadata": {
            "tags": null
          },
          "name": "stdout",
          "output_type": "stream",
          "text": [
            "\n",
            "      Epoch    GPU_mem   box_loss   seg_loss   cls_loss   dfl_loss  Instances       Size\n"
          ]
        },
        {
          "metadata": {
            "tags": null
          },
          "name": "stderr",
          "output_type": "stream",
          "text": [
            "      8/100       8.3G      1.836      2.499      2.413       1.59        134        640: 100%|██████████| 73/73 [00:57<00:00,  1.26it/s]\n",
            "                 Class     Images  Instances      Box(P          R      mAP50  mAP50-95)     Mask(P          R      mAP50  mAP50-95): 100%|██████████| 3/3 [00:02<00:00,  1.40it/s]"
          ]
        },
        {
          "metadata": {
            "tags": null
          },
          "name": "stdout",
          "output_type": "stream",
          "text": [
            "                   all         74        296      0.445      0.274       0.26      0.141      0.461      0.279      0.266      0.135\n"
          ]
        },
        {
          "metadata": {
            "tags": null
          },
          "name": "stderr",
          "output_type": "stream",
          "text": [
            "\n"
          ]
        },
        {
          "metadata": {
            "tags": null
          },
          "name": "stdout",
          "output_type": "stream",
          "text": [
            "\n",
            "      Epoch    GPU_mem   box_loss   seg_loss   cls_loss   dfl_loss  Instances       Size\n"
          ]
        },
        {
          "metadata": {
            "tags": null
          },
          "name": "stderr",
          "output_type": "stream",
          "text": [
            "      9/100      8.41G       1.82      2.432      2.338      1.558        150        640: 100%|██████████| 73/73 [00:57<00:00,  1.26it/s]\n",
            "                 Class     Images  Instances      Box(P          R      mAP50  mAP50-95)     Mask(P          R      mAP50  mAP50-95): 100%|██████████| 3/3 [00:01<00:00,  1.89it/s]"
          ]
        },
        {
          "metadata": {
            "tags": null
          },
          "name": "stdout",
          "output_type": "stream",
          "text": [
            "                   all         74        296      0.322      0.254       0.22      0.125      0.322      0.248      0.222      0.113\n"
          ]
        },
        {
          "metadata": {
            "tags": null
          },
          "name": "stderr",
          "output_type": "stream",
          "text": [
            "\n"
          ]
        },
        {
          "metadata": {
            "tags": null
          },
          "name": "stdout",
          "output_type": "stream",
          "text": [
            "\n",
            "      Epoch    GPU_mem   box_loss   seg_loss   cls_loss   dfl_loss  Instances       Size\n"
          ]
        },
        {
          "metadata": {
            "tags": null
          },
          "name": "stderr",
          "output_type": "stream",
          "text": [
            "     10/100      8.29G      1.824      2.454      2.287      1.548        129        640: 100%|██████████| 73/73 [00:58<00:00,  1.25it/s]\n",
            "                 Class     Images  Instances      Box(P          R      mAP50  mAP50-95)     Mask(P          R      mAP50  mAP50-95): 100%|██████████| 3/3 [00:01<00:00,  1.93it/s]"
          ]
        },
        {
          "metadata": {
            "tags": null
          },
          "name": "stdout",
          "output_type": "stream",
          "text": [
            "                   all         74        296      0.603      0.266      0.213      0.105      0.603      0.268      0.221      0.105\n"
          ]
        },
        {
          "metadata": {
            "tags": null
          },
          "name": "stderr",
          "output_type": "stream",
          "text": [
            "\n"
          ]
        },
        {
          "metadata": {
            "tags": null
          },
          "name": "stdout",
          "output_type": "stream",
          "text": [
            "\n",
            "      Epoch    GPU_mem   box_loss   seg_loss   cls_loss   dfl_loss  Instances       Size\n"
          ]
        },
        {
          "metadata": {
            "tags": null
          },
          "name": "stderr",
          "output_type": "stream",
          "text": [
            "     11/100      8.34G       1.81      2.417      2.251      1.536         69        640: 100%|██████████| 73/73 [00:57<00:00,  1.26it/s]\n",
            "                 Class     Images  Instances      Box(P          R      mAP50  mAP50-95)     Mask(P          R      mAP50  mAP50-95): 100%|██████████| 3/3 [00:02<00:00,  1.44it/s]"
          ]
        },
        {
          "metadata": {
            "tags": null
          },
          "name": "stdout",
          "output_type": "stream",
          "text": [
            "                   all         74        296       0.61      0.275      0.287      0.156      0.632      0.284      0.302      0.151\n"
          ]
        },
        {
          "metadata": {
            "tags": null
          },
          "name": "stderr",
          "output_type": "stream",
          "text": [
            "\n"
          ]
        },
        {
          "metadata": {
            "tags": null
          },
          "name": "stdout",
          "output_type": "stream",
          "text": [
            "\n",
            "      Epoch    GPU_mem   box_loss   seg_loss   cls_loss   dfl_loss  Instances       Size\n"
          ]
        },
        {
          "metadata": {
            "tags": null
          },
          "name": "stderr",
          "output_type": "stream",
          "text": [
            "     12/100      8.29G      1.794      2.391      2.197      1.524        149        640: 100%|██████████| 73/73 [00:57<00:00,  1.27it/s]\n",
            "                 Class     Images  Instances      Box(P          R      mAP50  mAP50-95)     Mask(P          R      mAP50  mAP50-95): 100%|██████████| 3/3 [00:02<00:00,  1.16it/s]"
          ]
        },
        {
          "metadata": {
            "tags": null
          },
          "name": "stdout",
          "output_type": "stream",
          "text": [
            "                   all         74        296      0.573      0.243      0.264      0.137      0.587      0.255      0.264      0.133\n"
          ]
        },
        {
          "metadata": {
            "tags": null
          },
          "name": "stderr",
          "output_type": "stream",
          "text": [
            "\n"
          ]
        },
        {
          "metadata": {
            "tags": null
          },
          "name": "stdout",
          "output_type": "stream",
          "text": [
            "\n",
            "      Epoch    GPU_mem   box_loss   seg_loss   cls_loss   dfl_loss  Instances       Size\n"
          ]
        },
        {
          "metadata": {
            "tags": null
          },
          "name": "stderr",
          "output_type": "stream",
          "text": [
            "     13/100      8.44G      1.774      2.395      2.172      1.516        113        640: 100%|██████████| 73/73 [00:57<00:00,  1.26it/s]\n",
            "                 Class     Images  Instances      Box(P          R      mAP50  mAP50-95)     Mask(P          R      mAP50  mAP50-95): 100%|██████████| 3/3 [00:01<00:00,  1.94it/s]"
          ]
        },
        {
          "metadata": {
            "tags": null
          },
          "name": "stdout",
          "output_type": "stream",
          "text": [
            "                   all         74        296      0.647      0.324      0.308      0.173      0.655      0.329      0.313      0.167\n"
          ]
        },
        {
          "metadata": {
            "tags": null
          },
          "name": "stderr",
          "output_type": "stream",
          "text": [
            "\n"
          ]
        },
        {
          "metadata": {
            "tags": null
          },
          "name": "stdout",
          "output_type": "stream",
          "text": [
            "\n",
            "      Epoch    GPU_mem   box_loss   seg_loss   cls_loss   dfl_loss  Instances       Size\n"
          ]
        },
        {
          "metadata": {
            "tags": null
          },
          "name": "stderr",
          "output_type": "stream",
          "text": [
            "     14/100      8.14G      1.769      2.341      2.127      1.515         60        640: 100%|██████████| 73/73 [00:58<00:00,  1.26it/s]\n",
            "                 Class     Images  Instances      Box(P          R      mAP50  mAP50-95)     Mask(P          R      mAP50  mAP50-95): 100%|██████████| 3/3 [00:01<00:00,  1.91it/s]"
          ]
        },
        {
          "metadata": {
            "tags": null
          },
          "name": "stdout",
          "output_type": "stream",
          "text": [
            "                   all         74        296      0.502      0.391      0.355      0.187      0.546      0.365      0.366      0.189\n"
          ]
        },
        {
          "metadata": {
            "tags": null
          },
          "name": "stderr",
          "output_type": "stream",
          "text": [
            "\n"
          ]
        },
        {
          "metadata": {
            "tags": null
          },
          "name": "stdout",
          "output_type": "stream",
          "text": [
            "\n",
            "      Epoch    GPU_mem   box_loss   seg_loss   cls_loss   dfl_loss  Instances       Size\n"
          ]
        },
        {
          "metadata": {
            "tags": null
          },
          "name": "stderr",
          "output_type": "stream",
          "text": [
            "     15/100      8.36G      1.758      2.359      2.123      1.507         84        640: 100%|██████████| 73/73 [00:58<00:00,  1.26it/s]\n",
            "                 Class     Images  Instances      Box(P          R      mAP50  mAP50-95)     Mask(P          R      mAP50  mAP50-95): 100%|██████████| 3/3 [00:02<00:00,  1.47it/s]"
          ]
        },
        {
          "metadata": {
            "tags": null
          },
          "name": "stdout",
          "output_type": "stream",
          "text": [
            "                   all         74        296      0.515       0.26      0.278       0.16      0.528      0.257      0.281      0.158\n"
          ]
        },
        {
          "metadata": {
            "tags": null
          },
          "name": "stderr",
          "output_type": "stream",
          "text": [
            "\n"
          ]
        },
        {
          "metadata": {
            "tags": null
          },
          "name": "stdout",
          "output_type": "stream",
          "text": [
            "\n",
            "      Epoch    GPU_mem   box_loss   seg_loss   cls_loss   dfl_loss  Instances       Size\n"
          ]
        },
        {
          "metadata": {
            "tags": null
          },
          "name": "stderr",
          "output_type": "stream",
          "text": [
            "     16/100      8.38G      1.756      2.406      2.096      1.527        180        640: 100%|██████████| 73/73 [00:57<00:00,  1.27it/s]\n",
            "                 Class     Images  Instances      Box(P          R      mAP50  mAP50-95)     Mask(P          R      mAP50  mAP50-95): 100%|██████████| 3/3 [00:01<00:00,  1.97it/s]"
          ]
        },
        {
          "metadata": {
            "tags": null
          },
          "name": "stdout",
          "output_type": "stream",
          "text": [
            "                   all         74        296      0.576      0.293      0.279      0.156      0.579      0.297      0.284      0.146\n"
          ]
        },
        {
          "metadata": {
            "tags": null
          },
          "name": "stderr",
          "output_type": "stream",
          "text": [
            "\n"
          ]
        },
        {
          "metadata": {
            "tags": null
          },
          "name": "stdout",
          "output_type": "stream",
          "text": [
            "\n",
            "      Epoch    GPU_mem   box_loss   seg_loss   cls_loss   dfl_loss  Instances       Size\n"
          ]
        },
        {
          "metadata": {
            "tags": null
          },
          "name": "stderr",
          "output_type": "stream",
          "text": [
            "     17/100      8.29G      1.727      2.304      2.101      1.507        103        640: 100%|██████████| 73/73 [00:58<00:00,  1.26it/s]\n",
            "                 Class     Images  Instances      Box(P          R      mAP50  mAP50-95)     Mask(P          R      mAP50  mAP50-95): 100%|██████████| 3/3 [00:01<00:00,  1.91it/s]"
          ]
        },
        {
          "metadata": {
            "tags": null
          },
          "name": "stdout",
          "output_type": "stream",
          "text": [
            "                   all         74        296      0.595      0.313      0.321      0.178      0.608      0.306      0.325      0.172\n"
          ]
        },
        {
          "metadata": {
            "tags": null
          },
          "name": "stderr",
          "output_type": "stream",
          "text": [
            "\n"
          ]
        },
        {
          "metadata": {
            "tags": null
          },
          "name": "stdout",
          "output_type": "stream",
          "text": [
            "\n",
            "      Epoch    GPU_mem   box_loss   seg_loss   cls_loss   dfl_loss  Instances       Size\n"
          ]
        },
        {
          "metadata": {
            "tags": null
          },
          "name": "stderr",
          "output_type": "stream",
          "text": [
            "     18/100      8.21G      1.756      2.348      2.071      1.506         66        640: 100%|██████████| 73/73 [00:57<00:00,  1.26it/s]\n",
            "                 Class     Images  Instances      Box(P          R      mAP50  mAP50-95)     Mask(P          R      mAP50  mAP50-95): 100%|██████████| 3/3 [00:02<00:00,  1.48it/s]"
          ]
        },
        {
          "metadata": {
            "tags": null
          },
          "name": "stdout",
          "output_type": "stream",
          "text": [
            "                   all         74        296      0.529      0.354      0.313      0.173      0.527      0.327      0.309      0.175\n"
          ]
        },
        {
          "metadata": {
            "tags": null
          },
          "name": "stderr",
          "output_type": "stream",
          "text": [
            "\n"
          ]
        },
        {
          "metadata": {
            "tags": null
          },
          "name": "stdout",
          "output_type": "stream",
          "text": [
            "\n",
            "      Epoch    GPU_mem   box_loss   seg_loss   cls_loss   dfl_loss  Instances       Size\n"
          ]
        },
        {
          "metadata": {
            "tags": null
          },
          "name": "stderr",
          "output_type": "stream",
          "text": [
            "     19/100      8.33G      1.725      2.261      2.051      1.494        145        640: 100%|██████████| 73/73 [00:58<00:00,  1.26it/s]\n",
            "                 Class     Images  Instances      Box(P          R      mAP50  mAP50-95)     Mask(P          R      mAP50  mAP50-95): 100%|██████████| 3/3 [00:02<00:00,  1.33it/s]"
          ]
        },
        {
          "metadata": {
            "tags": null
          },
          "name": "stdout",
          "output_type": "stream",
          "text": [
            "                   all         74        296      0.476      0.352      0.314      0.188      0.483       0.35      0.307      0.178\n"
          ]
        },
        {
          "metadata": {
            "tags": null
          },
          "name": "stderr",
          "output_type": "stream",
          "text": [
            "\n"
          ]
        },
        {
          "metadata": {
            "tags": null
          },
          "name": "stdout",
          "output_type": "stream",
          "text": [
            "\n",
            "      Epoch    GPU_mem   box_loss   seg_loss   cls_loss   dfl_loss  Instances       Size\n"
          ]
        },
        {
          "metadata": {
            "tags": null
          },
          "name": "stderr",
          "output_type": "stream",
          "text": [
            "     20/100      8.29G      1.744      2.319      2.007      1.488        103        640: 100%|██████████| 73/73 [00:58<00:00,  1.25it/s]\n",
            "                 Class     Images  Instances      Box(P          R      mAP50  mAP50-95)     Mask(P          R      mAP50  mAP50-95): 100%|██████████| 3/3 [00:01<00:00,  1.95it/s]"
          ]
        },
        {
          "metadata": {
            "tags": null
          },
          "name": "stdout",
          "output_type": "stream",
          "text": [
            "                   all         74        296      0.413      0.396      0.395       0.23      0.417      0.373      0.389      0.221\n"
          ]
        },
        {
          "metadata": {
            "tags": null
          },
          "name": "stderr",
          "output_type": "stream",
          "text": [
            "\n"
          ]
        },
        {
          "metadata": {
            "tags": null
          },
          "name": "stdout",
          "output_type": "stream",
          "text": [
            "\n",
            "      Epoch    GPU_mem   box_loss   seg_loss   cls_loss   dfl_loss  Instances       Size\n"
          ]
        },
        {
          "metadata": {
            "tags": null
          },
          "name": "stderr",
          "output_type": "stream",
          "text": [
            "     21/100      8.39G      1.732      2.291          2      1.511        128        640: 100%|██████████| 73/73 [00:57<00:00,  1.26it/s]\n",
            "                 Class     Images  Instances      Box(P          R      mAP50  mAP50-95)     Mask(P          R      mAP50  mAP50-95): 100%|██████████| 3/3 [00:02<00:00,  1.50it/s]"
          ]
        },
        {
          "metadata": {
            "tags": null
          },
          "name": "stdout",
          "output_type": "stream",
          "text": [
            "                   all         74        296      0.502      0.373      0.376      0.207        0.5      0.368      0.374      0.192\n"
          ]
        },
        {
          "metadata": {
            "tags": null
          },
          "name": "stderr",
          "output_type": "stream",
          "text": [
            "\n"
          ]
        },
        {
          "metadata": {
            "tags": null
          },
          "name": "stdout",
          "output_type": "stream",
          "text": [
            "\n",
            "      Epoch    GPU_mem   box_loss   seg_loss   cls_loss   dfl_loss  Instances       Size\n"
          ]
        },
        {
          "metadata": {
            "tags": null
          },
          "name": "stderr",
          "output_type": "stream",
          "text": [
            "     22/100      8.13G      1.692      2.234      1.943      1.461         72        640: 100%|██████████| 73/73 [00:58<00:00,  1.25it/s]\n",
            "                 Class     Images  Instances      Box(P          R      mAP50  mAP50-95)     Mask(P          R      mAP50  mAP50-95): 100%|██████████| 3/3 [00:01<00:00,  1.94it/s]"
          ]
        },
        {
          "metadata": {
            "tags": null
          },
          "name": "stdout",
          "output_type": "stream",
          "text": [
            "                   all         74        296      0.647      0.354      0.395      0.223      0.724      0.301      0.409       0.22\n"
          ]
        },
        {
          "metadata": {
            "tags": null
          },
          "name": "stderr",
          "output_type": "stream",
          "text": [
            "\n"
          ]
        },
        {
          "metadata": {
            "tags": null
          },
          "name": "stdout",
          "output_type": "stream",
          "text": [
            "\n",
            "      Epoch    GPU_mem   box_loss   seg_loss   cls_loss   dfl_loss  Instances       Size\n"
          ]
        },
        {
          "metadata": {
            "tags": null
          },
          "name": "stderr",
          "output_type": "stream",
          "text": [
            "     23/100      8.39G      1.691      2.251      1.928      1.453        121        640: 100%|██████████| 73/73 [00:58<00:00,  1.25it/s]\n",
            "                 Class     Images  Instances      Box(P          R      mAP50  mAP50-95)     Mask(P          R      mAP50  mAP50-95): 100%|██████████| 3/3 [00:01<00:00,  1.93it/s]"
          ]
        },
        {
          "metadata": {
            "tags": null
          },
          "name": "stdout",
          "output_type": "stream",
          "text": [
            "                   all         74        296      0.452       0.44      0.353      0.193      0.463      0.443      0.356      0.186\n"
          ]
        },
        {
          "metadata": {
            "tags": null
          },
          "name": "stderr",
          "output_type": "stream",
          "text": [
            "\n"
          ]
        },
        {
          "metadata": {
            "tags": null
          },
          "name": "stdout",
          "output_type": "stream",
          "text": [
            "\n",
            "      Epoch    GPU_mem   box_loss   seg_loss   cls_loss   dfl_loss  Instances       Size\n"
          ]
        },
        {
          "metadata": {
            "tags": null
          },
          "name": "stderr",
          "output_type": "stream",
          "text": [
            "     24/100      8.26G      1.674      2.242      1.982      1.493        121        640: 100%|██████████| 73/73 [00:57<00:00,  1.27it/s]\n",
            "                 Class     Images  Instances      Box(P          R      mAP50  mAP50-95)     Mask(P          R      mAP50  mAP50-95): 100%|██████████| 3/3 [00:01<00:00,  1.51it/s]"
          ]
        },
        {
          "metadata": {
            "tags": null
          },
          "name": "stdout",
          "output_type": "stream",
          "text": [
            "                   all         74        296       0.52      0.392      0.381      0.208      0.541      0.361      0.387      0.202\n"
          ]
        },
        {
          "metadata": {
            "tags": null
          },
          "name": "stderr",
          "output_type": "stream",
          "text": [
            "\n"
          ]
        },
        {
          "metadata": {
            "tags": null
          },
          "name": "stdout",
          "output_type": "stream",
          "text": [
            "\n",
            "      Epoch    GPU_mem   box_loss   seg_loss   cls_loss   dfl_loss  Instances       Size\n"
          ]
        },
        {
          "metadata": {
            "tags": null
          },
          "name": "stderr",
          "output_type": "stream",
          "text": [
            "     25/100      8.34G      1.701      2.231      1.916      1.453        100        640: 100%|██████████| 73/73 [00:58<00:00,  1.26it/s]\n",
            "                 Class     Images  Instances      Box(P          R      mAP50  mAP50-95)     Mask(P          R      mAP50  mAP50-95): 100%|██████████| 3/3 [00:02<00:00,  1.35it/s]"
          ]
        },
        {
          "metadata": {
            "tags": null
          },
          "name": "stdout",
          "output_type": "stream",
          "text": [
            "                   all         74        296      0.719      0.292      0.423      0.245      0.724      0.297       0.42      0.238\n"
          ]
        },
        {
          "metadata": {
            "tags": null
          },
          "name": "stderr",
          "output_type": "stream",
          "text": [
            "\n"
          ]
        },
        {
          "metadata": {
            "tags": null
          },
          "name": "stdout",
          "output_type": "stream",
          "text": [
            "\n",
            "      Epoch    GPU_mem   box_loss   seg_loss   cls_loss   dfl_loss  Instances       Size\n"
          ]
        },
        {
          "metadata": {
            "tags": null
          },
          "name": "stderr",
          "output_type": "stream",
          "text": [
            "     26/100      8.37G      1.685      2.247      1.922      1.459        161        640: 100%|██████████| 73/73 [00:58<00:00,  1.26it/s]\n",
            "                 Class     Images  Instances      Box(P          R      mAP50  mAP50-95)     Mask(P          R      mAP50  mAP50-95): 100%|██████████| 3/3 [00:01<00:00,  1.95it/s]"
          ]
        },
        {
          "metadata": {
            "tags": null
          },
          "name": "stdout",
          "output_type": "stream",
          "text": [
            "                   all         74        296      0.605      0.336      0.335      0.178      0.633       0.29      0.339      0.167\n"
          ]
        },
        {
          "metadata": {
            "tags": null
          },
          "name": "stderr",
          "output_type": "stream",
          "text": [
            "\n"
          ]
        },
        {
          "metadata": {
            "tags": null
          },
          "name": "stdout",
          "output_type": "stream",
          "text": [
            "\n",
            "      Epoch    GPU_mem   box_loss   seg_loss   cls_loss   dfl_loss  Instances       Size\n"
          ]
        },
        {
          "metadata": {
            "tags": null
          },
          "name": "stderr",
          "output_type": "stream",
          "text": [
            "     27/100      8.29G      1.702      2.262      1.894      1.457         78        640: 100%|██████████| 73/73 [00:57<00:00,  1.27it/s]\n",
            "                 Class     Images  Instances      Box(P          R      mAP50  mAP50-95)     Mask(P          R      mAP50  mAP50-95): 100%|██████████| 3/3 [00:01<00:00,  1.69it/s]"
          ]
        },
        {
          "metadata": {
            "tags": null
          },
          "name": "stdout",
          "output_type": "stream",
          "text": [
            "                   all         74        296      0.388      0.516      0.388      0.209      0.537      0.404      0.397      0.204\n"
          ]
        },
        {
          "metadata": {
            "tags": null
          },
          "name": "stderr",
          "output_type": "stream",
          "text": [
            "\n"
          ]
        },
        {
          "metadata": {
            "tags": null
          },
          "name": "stdout",
          "output_type": "stream",
          "text": [
            "\n",
            "      Epoch    GPU_mem   box_loss   seg_loss   cls_loss   dfl_loss  Instances       Size\n"
          ]
        },
        {
          "metadata": {
            "tags": null
          },
          "name": "stderr",
          "output_type": "stream",
          "text": [
            "     28/100      8.24G      1.667      2.255      1.842       1.46         95        640: 100%|██████████| 73/73 [00:58<00:00,  1.25it/s]\n",
            "                 Class     Images  Instances      Box(P          R      mAP50  mAP50-95)     Mask(P          R      mAP50  mAP50-95): 100%|██████████| 3/3 [00:02<00:00,  1.36it/s]"
          ]
        },
        {
          "metadata": {
            "tags": null
          },
          "name": "stdout",
          "output_type": "stream",
          "text": [
            "                   all         74        296      0.318      0.488      0.376      0.211      0.315      0.494      0.381      0.209\n"
          ]
        },
        {
          "metadata": {
            "tags": null
          },
          "name": "stderr",
          "output_type": "stream",
          "text": [
            "\n"
          ]
        },
        {
          "metadata": {
            "tags": null
          },
          "name": "stdout",
          "output_type": "stream",
          "text": [
            "\n",
            "      Epoch    GPU_mem   box_loss   seg_loss   cls_loss   dfl_loss  Instances       Size\n"
          ]
        },
        {
          "metadata": {
            "tags": null
          },
          "name": "stderr",
          "output_type": "stream",
          "text": [
            "     29/100      8.24G      1.678      2.187      1.863      1.453        103        640: 100%|██████████| 73/73 [00:57<00:00,  1.26it/s]\n",
            "                 Class     Images  Instances      Box(P          R      mAP50  mAP50-95)     Mask(P          R      mAP50  mAP50-95): 100%|██████████| 3/3 [00:01<00:00,  1.94it/s]"
          ]
        },
        {
          "metadata": {
            "tags": null
          },
          "name": "stdout",
          "output_type": "stream",
          "text": [
            "                   all         74        296      0.701       0.29      0.353      0.206      0.706      0.297      0.364      0.201\n"
          ]
        },
        {
          "metadata": {
            "tags": null
          },
          "name": "stderr",
          "output_type": "stream",
          "text": [
            "\n"
          ]
        },
        {
          "metadata": {
            "tags": null
          },
          "name": "stdout",
          "output_type": "stream",
          "text": [
            "\n",
            "      Epoch    GPU_mem   box_loss   seg_loss   cls_loss   dfl_loss  Instances       Size\n"
          ]
        },
        {
          "metadata": {
            "tags": null
          },
          "name": "stderr",
          "output_type": "stream",
          "text": [
            "     30/100      8.25G      1.662      2.209      1.834      1.447        103        640: 100%|██████████| 73/73 [00:57<00:00,  1.27it/s]\n",
            "                 Class     Images  Instances      Box(P          R      mAP50  mAP50-95)     Mask(P          R      mAP50  mAP50-95): 100%|██████████| 3/3 [00:01<00:00,  1.96it/s]"
          ]
        },
        {
          "metadata": {
            "tags": null
          },
          "name": "stdout",
          "output_type": "stream",
          "text": [
            "                   all         74        296      0.499      0.378      0.384      0.212      0.509      0.381      0.368      0.204\n"
          ]
        },
        {
          "metadata": {
            "tags": null
          },
          "name": "stderr",
          "output_type": "stream",
          "text": [
            "\n"
          ]
        },
        {
          "metadata": {
            "tags": null
          },
          "name": "stdout",
          "output_type": "stream",
          "text": [
            "\n",
            "      Epoch    GPU_mem   box_loss   seg_loss   cls_loss   dfl_loss  Instances       Size\n"
          ]
        },
        {
          "metadata": {
            "tags": null
          },
          "name": "stderr",
          "output_type": "stream",
          "text": [
            "     31/100      8.36G      1.668      2.188      1.827      1.434        115        640: 100%|██████████| 73/73 [00:58<00:00,  1.25it/s]\n",
            "                 Class     Images  Instances      Box(P          R      mAP50  mAP50-95)     Mask(P          R      mAP50  mAP50-95): 100%|██████████| 3/3 [00:02<00:00,  1.39it/s]"
          ]
        },
        {
          "metadata": {
            "tags": null
          },
          "name": "stdout",
          "output_type": "stream",
          "text": [
            "                   all         74        296      0.397       0.32      0.359      0.201      0.395      0.321       0.36      0.193\n"
          ]
        },
        {
          "metadata": {
            "tags": null
          },
          "name": "stderr",
          "output_type": "stream",
          "text": [
            "\n"
          ]
        },
        {
          "metadata": {
            "tags": null
          },
          "name": "stdout",
          "output_type": "stream",
          "text": [
            "\n",
            "      Epoch    GPU_mem   box_loss   seg_loss   cls_loss   dfl_loss  Instances       Size\n"
          ]
        },
        {
          "metadata": {
            "tags": null
          },
          "name": "stderr",
          "output_type": "stream",
          "text": [
            "     32/100      8.31G      1.639      2.141      1.777      1.437        127        640: 100%|██████████| 73/73 [00:58<00:00,  1.25it/s]\n",
            "                 Class     Images  Instances      Box(P          R      mAP50  mAP50-95)     Mask(P          R      mAP50  mAP50-95): 100%|██████████| 3/3 [00:01<00:00,  1.91it/s]"
          ]
        },
        {
          "metadata": {
            "tags": null
          },
          "name": "stdout",
          "output_type": "stream",
          "text": [
            "                   all         74        296      0.483      0.416      0.423      0.231      0.473      0.404       0.42      0.223\n"
          ]
        },
        {
          "metadata": {
            "tags": null
          },
          "name": "stderr",
          "output_type": "stream",
          "text": [
            "\n"
          ]
        },
        {
          "metadata": {
            "tags": null
          },
          "name": "stdout",
          "output_type": "stream",
          "text": [
            "\n",
            "      Epoch    GPU_mem   box_loss   seg_loss   cls_loss   dfl_loss  Instances       Size\n"
          ]
        },
        {
          "metadata": {
            "tags": null
          },
          "name": "stderr",
          "output_type": "stream",
          "text": [
            "     33/100       8.3G      1.623      2.144      1.744      1.428        101        640: 100%|██████████| 73/73 [00:58<00:00,  1.24it/s]\n",
            "                 Class     Images  Instances      Box(P          R      mAP50  mAP50-95)     Mask(P          R      mAP50  mAP50-95): 100%|██████████| 3/3 [00:01<00:00,  1.90it/s]"
          ]
        },
        {
          "metadata": {
            "tags": null
          },
          "name": "stdout",
          "output_type": "stream",
          "text": [
            "                   all         74        296      0.406      0.405      0.426      0.239      0.506      0.334      0.424       0.23\n"
          ]
        },
        {
          "metadata": {
            "tags": null
          },
          "name": "stderr",
          "output_type": "stream",
          "text": [
            "\n"
          ]
        },
        {
          "metadata": {
            "tags": null
          },
          "name": "stdout",
          "output_type": "stream",
          "text": [
            "\n",
            "      Epoch    GPU_mem   box_loss   seg_loss   cls_loss   dfl_loss  Instances       Size\n"
          ]
        },
        {
          "metadata": {
            "tags": null
          },
          "name": "stderr",
          "output_type": "stream",
          "text": [
            "     34/100      8.24G       1.62      2.116      1.753      1.436         91        640: 100%|██████████| 73/73 [00:58<00:00,  1.25it/s]\n",
            "                 Class     Images  Instances      Box(P          R      mAP50  mAP50-95)     Mask(P          R      mAP50  mAP50-95): 100%|██████████| 3/3 [00:02<00:00,  1.39it/s]"
          ]
        },
        {
          "metadata": {
            "tags": null
          },
          "name": "stdout",
          "output_type": "stream",
          "text": [
            "                   all         74        296       0.32      0.462      0.388       0.22      0.325      0.422       0.39      0.211\n"
          ]
        },
        {
          "metadata": {
            "tags": null
          },
          "name": "stderr",
          "output_type": "stream",
          "text": [
            "\n"
          ]
        },
        {
          "metadata": {
            "tags": null
          },
          "name": "stdout",
          "output_type": "stream",
          "text": [
            "\n",
            "      Epoch    GPU_mem   box_loss   seg_loss   cls_loss   dfl_loss  Instances       Size\n"
          ]
        },
        {
          "metadata": {
            "tags": null
          },
          "name": "stderr",
          "output_type": "stream",
          "text": [
            "     35/100      8.31G      1.648      2.146      1.792      1.447        153        640: 100%|██████████| 73/73 [00:58<00:00,  1.24it/s]\n",
            "                 Class     Images  Instances      Box(P          R      mAP50  mAP50-95)     Mask(P          R      mAP50  mAP50-95): 100%|██████████| 3/3 [00:01<00:00,  1.92it/s]"
          ]
        },
        {
          "metadata": {
            "tags": null
          },
          "name": "stdout",
          "output_type": "stream",
          "text": [
            "                   all         74        296      0.533      0.387      0.465      0.263      0.527      0.389      0.457      0.256\n"
          ]
        },
        {
          "metadata": {
            "tags": null
          },
          "name": "stderr",
          "output_type": "stream",
          "text": [
            "\n"
          ]
        },
        {
          "metadata": {
            "tags": null
          },
          "name": "stdout",
          "output_type": "stream",
          "text": [
            "\n",
            "      Epoch    GPU_mem   box_loss   seg_loss   cls_loss   dfl_loss  Instances       Size\n"
          ]
        },
        {
          "metadata": {
            "tags": null
          },
          "name": "stderr",
          "output_type": "stream",
          "text": [
            "     36/100      8.28G      1.615      2.131      1.727      1.422         84        640: 100%|██████████| 73/73 [00:57<00:00,  1.27it/s]\n",
            "                 Class     Images  Instances      Box(P          R      mAP50  mAP50-95)     Mask(P          R      mAP50  mAP50-95): 100%|██████████| 3/3 [00:01<00:00,  1.93it/s]"
          ]
        },
        {
          "metadata": {
            "tags": null
          },
          "name": "stdout",
          "output_type": "stream",
          "text": [
            "                   all         74        296      0.488      0.365      0.384      0.194      0.512      0.367      0.394      0.183\n"
          ]
        },
        {
          "metadata": {
            "tags": null
          },
          "name": "stderr",
          "output_type": "stream",
          "text": [
            "\n"
          ]
        },
        {
          "metadata": {
            "tags": null
          },
          "name": "stdout",
          "output_type": "stream",
          "text": [
            "\n",
            "      Epoch    GPU_mem   box_loss   seg_loss   cls_loss   dfl_loss  Instances       Size\n"
          ]
        },
        {
          "metadata": {
            "tags": null
          },
          "name": "stderr",
          "output_type": "stream",
          "text": [
            "     37/100      8.27G      1.607      2.125      1.708      1.413        143        640: 100%|██████████| 73/73 [00:57<00:00,  1.26it/s]\n",
            "                 Class     Images  Instances      Box(P          R      mAP50  mAP50-95)     Mask(P          R      mAP50  mAP50-95): 100%|██████████| 3/3 [00:02<00:00,  1.25it/s]"
          ]
        },
        {
          "metadata": {
            "tags": null
          },
          "name": "stdout",
          "output_type": "stream",
          "text": [
            "                   all         74        296      0.416      0.534      0.448      0.254      0.419       0.53      0.443       0.25\n"
          ]
        },
        {
          "metadata": {
            "tags": null
          },
          "name": "stderr",
          "output_type": "stream",
          "text": [
            "\n"
          ]
        },
        {
          "metadata": {
            "tags": null
          },
          "name": "stdout",
          "output_type": "stream",
          "text": [
            "\n",
            "      Epoch    GPU_mem   box_loss   seg_loss   cls_loss   dfl_loss  Instances       Size\n"
          ]
        },
        {
          "metadata": {
            "tags": null
          },
          "name": "stderr",
          "output_type": "stream",
          "text": [
            "     38/100      8.35G      1.593      2.066       1.72      1.414         82        640: 100%|██████████| 73/73 [00:57<00:00,  1.26it/s]\n",
            "                 Class     Images  Instances      Box(P          R      mAP50  mAP50-95)     Mask(P          R      mAP50  mAP50-95): 100%|██████████| 3/3 [00:02<00:00,  1.22it/s]"
          ]
        },
        {
          "metadata": {
            "tags": null
          },
          "name": "stdout",
          "output_type": "stream",
          "text": [
            "                   all         74        296      0.477      0.352      0.408      0.239       0.53      0.383       0.44      0.244\n"
          ]
        },
        {
          "metadata": {
            "tags": null
          },
          "name": "stderr",
          "output_type": "stream",
          "text": [
            "\n"
          ]
        },
        {
          "metadata": {
            "tags": null
          },
          "name": "stdout",
          "output_type": "stream",
          "text": [
            "\n",
            "      Epoch    GPU_mem   box_loss   seg_loss   cls_loss   dfl_loss  Instances       Size\n"
          ]
        },
        {
          "metadata": {
            "tags": null
          },
          "name": "stderr",
          "output_type": "stream",
          "text": [
            "     39/100      8.33G      1.584      2.096      1.668      1.402        134        640: 100%|██████████| 73/73 [00:58<00:00,  1.26it/s]\n",
            "                 Class     Images  Instances      Box(P          R      mAP50  mAP50-95)     Mask(P          R      mAP50  mAP50-95): 100%|██████████| 3/3 [00:01<00:00,  1.95it/s]"
          ]
        },
        {
          "metadata": {
            "tags": null
          },
          "name": "stdout",
          "output_type": "stream",
          "text": [
            "                   all         74        296      0.323      0.471      0.404      0.224      0.325      0.439      0.406       0.22\n"
          ]
        },
        {
          "metadata": {
            "tags": null
          },
          "name": "stderr",
          "output_type": "stream",
          "text": [
            "\n"
          ]
        },
        {
          "metadata": {
            "tags": null
          },
          "name": "stdout",
          "output_type": "stream",
          "text": [
            "\n",
            "      Epoch    GPU_mem   box_loss   seg_loss   cls_loss   dfl_loss  Instances       Size\n"
          ]
        },
        {
          "metadata": {
            "tags": null
          },
          "name": "stderr",
          "output_type": "stream",
          "text": [
            "     40/100      8.27G      1.591      2.057      1.678      1.431        101        640: 100%|██████████| 73/73 [00:57<00:00,  1.26it/s]\n",
            "                 Class     Images  Instances      Box(P          R      mAP50  mAP50-95)     Mask(P          R      mAP50  mAP50-95): 100%|██████████| 3/3 [00:01<00:00,  1.82it/s]"
          ]
        },
        {
          "metadata": {
            "tags": null
          },
          "name": "stdout",
          "output_type": "stream",
          "text": [
            "                   all         74        296      0.356      0.457      0.429      0.254      0.354      0.445      0.429      0.254\n"
          ]
        },
        {
          "metadata": {
            "tags": null
          },
          "name": "stderr",
          "output_type": "stream",
          "text": [
            "\n"
          ]
        },
        {
          "metadata": {
            "tags": null
          },
          "name": "stdout",
          "output_type": "stream",
          "text": [
            "\n",
            "      Epoch    GPU_mem   box_loss   seg_loss   cls_loss   dfl_loss  Instances       Size\n"
          ]
        },
        {
          "metadata": {
            "tags": null
          },
          "name": "stderr",
          "output_type": "stream",
          "text": [
            "     41/100      8.33G      1.565      2.089      1.631      1.411        138        640: 100%|██████████| 73/73 [00:58<00:00,  1.25it/s]\n",
            "                 Class     Images  Instances      Box(P          R      mAP50  mAP50-95)     Mask(P          R      mAP50  mAP50-95): 100%|██████████| 3/3 [00:02<00:00,  1.45it/s]"
          ]
        },
        {
          "metadata": {
            "tags": null
          },
          "name": "stdout",
          "output_type": "stream",
          "text": [
            "                   all         74        296      0.435      0.474      0.445      0.262      0.436      0.479      0.455      0.259\n"
          ]
        },
        {
          "metadata": {
            "tags": null
          },
          "name": "stderr",
          "output_type": "stream",
          "text": [
            "\n"
          ]
        },
        {
          "metadata": {
            "tags": null
          },
          "name": "stdout",
          "output_type": "stream",
          "text": [
            "\n",
            "      Epoch    GPU_mem   box_loss   seg_loss   cls_loss   dfl_loss  Instances       Size\n"
          ]
        },
        {
          "metadata": {
            "tags": null
          },
          "name": "stderr",
          "output_type": "stream",
          "text": [
            "     42/100      8.25G      1.553      2.048      1.624      1.389        172        640: 100%|██████████| 73/73 [00:57<00:00,  1.26it/s]\n",
            "                 Class     Images  Instances      Box(P          R      mAP50  mAP50-95)     Mask(P          R      mAP50  mAP50-95): 100%|██████████| 3/3 [00:01<00:00,  1.98it/s]"
          ]
        },
        {
          "metadata": {
            "tags": null
          },
          "name": "stdout",
          "output_type": "stream",
          "text": [
            "                   all         74        296      0.349      0.504       0.42      0.233      0.367      0.522      0.433       0.23\n"
          ]
        },
        {
          "metadata": {
            "tags": null
          },
          "name": "stderr",
          "output_type": "stream",
          "text": [
            "\n"
          ]
        },
        {
          "metadata": {
            "tags": null
          },
          "name": "stdout",
          "output_type": "stream",
          "text": [
            "\n",
            "      Epoch    GPU_mem   box_loss   seg_loss   cls_loss   dfl_loss  Instances       Size\n"
          ]
        },
        {
          "metadata": {
            "tags": null
          },
          "name": "stderr",
          "output_type": "stream",
          "text": [
            "     43/100      8.13G      1.562      2.073      1.651      1.386         75        640: 100%|██████████| 73/73 [00:57<00:00,  1.28it/s]\n",
            "                 Class     Images  Instances      Box(P          R      mAP50  mAP50-95)     Mask(P          R      mAP50  mAP50-95): 100%|██████████| 3/3 [00:01<00:00,  1.98it/s]"
          ]
        },
        {
          "metadata": {
            "tags": null
          },
          "name": "stdout",
          "output_type": "stream",
          "text": [
            "                   all         74        296      0.512      0.427       0.41       0.22        0.5      0.425      0.398      0.217\n"
          ]
        },
        {
          "metadata": {
            "tags": null
          },
          "name": "stderr",
          "output_type": "stream",
          "text": [
            "\n"
          ]
        },
        {
          "metadata": {
            "tags": null
          },
          "name": "stdout",
          "output_type": "stream",
          "text": [
            "\n",
            "      Epoch    GPU_mem   box_loss   seg_loss   cls_loss   dfl_loss  Instances       Size\n"
          ]
        },
        {
          "metadata": {
            "tags": null
          },
          "name": "stderr",
          "output_type": "stream",
          "text": [
            "     44/100      8.37G      1.564      2.084      1.613      1.383         72        640: 100%|██████████| 73/73 [00:57<00:00,  1.26it/s]\n",
            "                 Class     Images  Instances      Box(P          R      mAP50  mAP50-95)     Mask(P          R      mAP50  mAP50-95): 100%|██████████| 3/3 [00:01<00:00,  1.59it/s]"
          ]
        },
        {
          "metadata": {
            "tags": null
          },
          "name": "stdout",
          "output_type": "stream",
          "text": [
            "                   all         74        296      0.335      0.427      0.393      0.223      0.353      0.408      0.409      0.221\n"
          ]
        },
        {
          "metadata": {
            "tags": null
          },
          "name": "stderr",
          "output_type": "stream",
          "text": [
            "\n"
          ]
        },
        {
          "metadata": {
            "tags": null
          },
          "name": "stdout",
          "output_type": "stream",
          "text": [
            "\n",
            "      Epoch    GPU_mem   box_loss   seg_loss   cls_loss   dfl_loss  Instances       Size\n"
          ]
        },
        {
          "metadata": {
            "tags": null
          },
          "name": "stderr",
          "output_type": "stream",
          "text": [
            "     45/100      8.38G      1.536       2.03       1.57      1.373         56        640: 100%|██████████| 73/73 [00:58<00:00,  1.25it/s]\n",
            "                 Class     Images  Instances      Box(P          R      mAP50  mAP50-95)     Mask(P          R      mAP50  mAP50-95): 100%|██████████| 3/3 [00:01<00:00,  1.83it/s]"
          ]
        },
        {
          "metadata": {
            "tags": null
          },
          "name": "stdout",
          "output_type": "stream",
          "text": [
            "                   all         74        296      0.331      0.535       0.43      0.237       0.33      0.533      0.435      0.229\n"
          ]
        },
        {
          "metadata": {
            "tags": null
          },
          "name": "stderr",
          "output_type": "stream",
          "text": [
            "\n"
          ]
        },
        {
          "metadata": {
            "tags": null
          },
          "name": "stdout",
          "output_type": "stream",
          "text": [
            "\n",
            "      Epoch    GPU_mem   box_loss   seg_loss   cls_loss   dfl_loss  Instances       Size\n"
          ]
        },
        {
          "metadata": {
            "tags": null
          },
          "name": "stderr",
          "output_type": "stream",
          "text": [
            "     46/100      8.23G      1.559      2.032      1.576      1.391         86        640: 100%|██████████| 73/73 [00:58<00:00,  1.26it/s]\n",
            "                 Class     Images  Instances      Box(P          R      mAP50  mAP50-95)     Mask(P          R      mAP50  mAP50-95): 100%|██████████| 3/3 [00:01<00:00,  1.95it/s]"
          ]
        },
        {
          "metadata": {
            "tags": null
          },
          "name": "stdout",
          "output_type": "stream",
          "text": [
            "                   all         74        296       0.42      0.424      0.425      0.252      0.423      0.429      0.432       0.25\n"
          ]
        },
        {
          "metadata": {
            "tags": null
          },
          "name": "stderr",
          "output_type": "stream",
          "text": [
            "\n"
          ]
        },
        {
          "metadata": {
            "tags": null
          },
          "name": "stdout",
          "output_type": "stream",
          "text": [
            "\n",
            "      Epoch    GPU_mem   box_loss   seg_loss   cls_loss   dfl_loss  Instances       Size\n"
          ]
        },
        {
          "metadata": {
            "tags": null
          },
          "name": "stderr",
          "output_type": "stream",
          "text": [
            "     47/100       8.2G      1.551      2.025      1.568      1.389        133        640: 100%|██████████| 73/73 [00:57<00:00,  1.27it/s]\n",
            "                 Class     Images  Instances      Box(P          R      mAP50  mAP50-95)     Mask(P          R      mAP50  mAP50-95): 100%|██████████| 3/3 [00:01<00:00,  1.85it/s]"
          ]
        },
        {
          "metadata": {
            "tags": null
          },
          "name": "stdout",
          "output_type": "stream",
          "text": [
            "                   all         74        296      0.426      0.411      0.434      0.238      0.441      0.412       0.44      0.242\n"
          ]
        },
        {
          "metadata": {
            "tags": null
          },
          "name": "stderr",
          "output_type": "stream",
          "text": [
            "\n"
          ]
        },
        {
          "metadata": {
            "tags": null
          },
          "name": "stdout",
          "output_type": "stream",
          "text": [
            "\n",
            "      Epoch    GPU_mem   box_loss   seg_loss   cls_loss   dfl_loss  Instances       Size\n"
          ]
        },
        {
          "metadata": {
            "tags": null
          },
          "name": "stderr",
          "output_type": "stream",
          "text": [
            "     48/100      8.34G      1.518       1.99      1.519      1.361        109        640: 100%|██████████| 73/73 [00:58<00:00,  1.24it/s]\n",
            "                 Class     Images  Instances      Box(P          R      mAP50  mAP50-95)     Mask(P          R      mAP50  mAP50-95): 100%|██████████| 3/3 [00:02<00:00,  1.43it/s]"
          ]
        },
        {
          "metadata": {
            "tags": null
          },
          "name": "stdout",
          "output_type": "stream",
          "text": [
            "                   all         74        296      0.448      0.413       0.46      0.258      0.418      0.405      0.442      0.263\n"
          ]
        },
        {
          "metadata": {
            "tags": null
          },
          "name": "stderr",
          "output_type": "stream",
          "text": [
            "\n"
          ]
        },
        {
          "metadata": {
            "tags": null
          },
          "name": "stdout",
          "output_type": "stream",
          "text": [
            "\n",
            "      Epoch    GPU_mem   box_loss   seg_loss   cls_loss   dfl_loss  Instances       Size\n"
          ]
        },
        {
          "metadata": {
            "tags": null
          },
          "name": "stderr",
          "output_type": "stream",
          "text": [
            "     49/100      8.42G      1.519      1.995      1.489      1.358        108        640: 100%|██████████| 73/73 [00:58<00:00,  1.26it/s]\n",
            "                 Class     Images  Instances      Box(P          R      mAP50  mAP50-95)     Mask(P          R      mAP50  mAP50-95): 100%|██████████| 3/3 [00:01<00:00,  1.93it/s]"
          ]
        },
        {
          "metadata": {
            "tags": null
          },
          "name": "stdout",
          "output_type": "stream",
          "text": [
            "                   all         74        296      0.503      0.418      0.452      0.262      0.504      0.419      0.448      0.255\n"
          ]
        },
        {
          "metadata": {
            "tags": null
          },
          "name": "stderr",
          "output_type": "stream",
          "text": [
            "\n"
          ]
        },
        {
          "metadata": {
            "tags": null
          },
          "name": "stdout",
          "output_type": "stream",
          "text": [
            "\n",
            "      Epoch    GPU_mem   box_loss   seg_loss   cls_loss   dfl_loss  Instances       Size\n"
          ]
        },
        {
          "metadata": {
            "tags": null
          },
          "name": "stderr",
          "output_type": "stream",
          "text": [
            "     50/100      8.23G      1.498      1.956      1.499      1.362         52        640: 100%|██████████| 73/73 [00:58<00:00,  1.25it/s]\n",
            "                 Class     Images  Instances      Box(P          R      mAP50  mAP50-95)     Mask(P          R      mAP50  mAP50-95): 100%|██████████| 3/3 [00:01<00:00,  1.97it/s]"
          ]
        },
        {
          "metadata": {
            "tags": null
          },
          "name": "stdout",
          "output_type": "stream",
          "text": [
            "                   all         74        296      0.488      0.497       0.47      0.282      0.555      0.437      0.472      0.274\n"
          ]
        },
        {
          "metadata": {
            "tags": null
          },
          "name": "stderr",
          "output_type": "stream",
          "text": [
            "\n"
          ]
        },
        {
          "metadata": {
            "tags": null
          },
          "name": "stdout",
          "output_type": "stream",
          "text": [
            "\n",
            "      Epoch    GPU_mem   box_loss   seg_loss   cls_loss   dfl_loss  Instances       Size\n"
          ]
        },
        {
          "metadata": {
            "tags": null
          },
          "name": "stderr",
          "output_type": "stream",
          "text": [
            "     51/100      8.28G      1.532      1.956      1.524      1.388        108        640: 100%|██████████| 73/73 [00:58<00:00,  1.26it/s]\n",
            "                 Class     Images  Instances      Box(P          R      mAP50  mAP50-95)     Mask(P          R      mAP50  mAP50-95): 100%|██████████| 3/3 [00:01<00:00,  1.59it/s]"
          ]
        },
        {
          "metadata": {
            "tags": null
          },
          "name": "stdout",
          "output_type": "stream",
          "text": [
            "                   all         74        296      0.381      0.447      0.422      0.225      0.375      0.437      0.415      0.217\n"
          ]
        },
        {
          "metadata": {
            "tags": null
          },
          "name": "stderr",
          "output_type": "stream",
          "text": [
            "\n"
          ]
        },
        {
          "metadata": {
            "tags": null
          },
          "name": "stdout",
          "output_type": "stream",
          "text": [
            "\n",
            "      Epoch    GPU_mem   box_loss   seg_loss   cls_loss   dfl_loss  Instances       Size\n"
          ]
        },
        {
          "metadata": {
            "tags": null
          },
          "name": "stderr",
          "output_type": "stream",
          "text": [
            "     52/100      8.44G      1.491      1.933      1.453      1.347        236        640: 100%|██████████| 73/73 [00:58<00:00,  1.25it/s]\n",
            "                 Class     Images  Instances      Box(P          R      mAP50  mAP50-95)     Mask(P          R      mAP50  mAP50-95): 100%|██████████| 3/3 [00:01<00:00,  1.91it/s]"
          ]
        },
        {
          "metadata": {
            "tags": null
          },
          "name": "stdout",
          "output_type": "stream",
          "text": [
            "                   all         74        296      0.389      0.432      0.455      0.253      0.391      0.431      0.466      0.252\n"
          ]
        },
        {
          "metadata": {
            "tags": null
          },
          "name": "stderr",
          "output_type": "stream",
          "text": [
            "\n"
          ]
        },
        {
          "metadata": {
            "tags": null
          },
          "name": "stdout",
          "output_type": "stream",
          "text": [
            "\n",
            "      Epoch    GPU_mem   box_loss   seg_loss   cls_loss   dfl_loss  Instances       Size\n"
          ]
        },
        {
          "metadata": {
            "tags": null
          },
          "name": "stderr",
          "output_type": "stream",
          "text": [
            "     53/100      8.36G      1.511       1.96       1.47      1.348         93        640: 100%|██████████| 73/73 [00:58<00:00,  1.24it/s]\n",
            "                 Class     Images  Instances      Box(P          R      mAP50  mAP50-95)     Mask(P          R      mAP50  mAP50-95): 100%|██████████| 3/3 [00:01<00:00,  1.93it/s]"
          ]
        },
        {
          "metadata": {
            "tags": null
          },
          "name": "stdout",
          "output_type": "stream",
          "text": [
            "                   all         74        296      0.448      0.387      0.449      0.224      0.461      0.397      0.452      0.223\n"
          ]
        },
        {
          "metadata": {
            "tags": null
          },
          "name": "stderr",
          "output_type": "stream",
          "text": [
            "\n"
          ]
        },
        {
          "metadata": {
            "tags": null
          },
          "name": "stdout",
          "output_type": "stream",
          "text": [
            "\n",
            "      Epoch    GPU_mem   box_loss   seg_loss   cls_loss   dfl_loss  Instances       Size\n"
          ]
        },
        {
          "metadata": {
            "tags": null
          },
          "name": "stderr",
          "output_type": "stream",
          "text": [
            "     54/100      8.21G      1.486       1.93      1.424      1.337        131        640: 100%|██████████| 73/73 [00:57<00:00,  1.26it/s]\n",
            "                 Class     Images  Instances      Box(P          R      mAP50  mAP50-95)     Mask(P          R      mAP50  mAP50-95): 100%|██████████| 3/3 [00:01<00:00,  1.91it/s]"
          ]
        },
        {
          "metadata": {
            "tags": null
          },
          "name": "stdout",
          "output_type": "stream",
          "text": [
            "                   all         74        296      0.449      0.453      0.469      0.247      0.464      0.474      0.478      0.247\n"
          ]
        },
        {
          "metadata": {
            "tags": null
          },
          "name": "stderr",
          "output_type": "stream",
          "text": [
            "\n"
          ]
        },
        {
          "metadata": {
            "tags": null
          },
          "name": "stdout",
          "output_type": "stream",
          "text": [
            "\n",
            "      Epoch    GPU_mem   box_loss   seg_loss   cls_loss   dfl_loss  Instances       Size\n"
          ]
        },
        {
          "metadata": {
            "tags": null
          },
          "name": "stderr",
          "output_type": "stream",
          "text": [
            "     55/100      8.31G      1.479      1.952      1.387      1.325         99        640: 100%|██████████| 73/73 [00:57<00:00,  1.26it/s]\n",
            "                 Class     Images  Instances      Box(P          R      mAP50  mAP50-95)     Mask(P          R      mAP50  mAP50-95): 100%|██████████| 3/3 [00:02<00:00,  1.39it/s]"
          ]
        },
        {
          "metadata": {
            "tags": null
          },
          "name": "stdout",
          "output_type": "stream",
          "text": [
            "                   all         74        296      0.472      0.413      0.486      0.272      0.512      0.398      0.479      0.274\n"
          ]
        },
        {
          "metadata": {
            "tags": null
          },
          "name": "stderr",
          "output_type": "stream",
          "text": [
            "\n"
          ]
        },
        {
          "metadata": {
            "tags": null
          },
          "name": "stdout",
          "output_type": "stream",
          "text": [
            "\n",
            "      Epoch    GPU_mem   box_loss   seg_loss   cls_loss   dfl_loss  Instances       Size\n"
          ]
        },
        {
          "metadata": {
            "tags": null
          },
          "name": "stderr",
          "output_type": "stream",
          "text": [
            "     56/100      8.36G       1.46      1.921      1.414      1.337        114        640: 100%|██████████| 73/73 [00:57<00:00,  1.28it/s]\n",
            "                 Class     Images  Instances      Box(P          R      mAP50  mAP50-95)     Mask(P          R      mAP50  mAP50-95): 100%|██████████| 3/3 [00:01<00:00,  1.96it/s]"
          ]
        },
        {
          "metadata": {
            "tags": null
          },
          "name": "stdout",
          "output_type": "stream",
          "text": [
            "                   all         74        296      0.358      0.508      0.433      0.256      0.611      0.395      0.452       0.25\n"
          ]
        },
        {
          "metadata": {
            "tags": null
          },
          "name": "stderr",
          "output_type": "stream",
          "text": [
            "\n"
          ]
        },
        {
          "metadata": {
            "tags": null
          },
          "name": "stdout",
          "output_type": "stream",
          "text": [
            "\n",
            "      Epoch    GPU_mem   box_loss   seg_loss   cls_loss   dfl_loss  Instances       Size\n"
          ]
        },
        {
          "metadata": {
            "tags": null
          },
          "name": "stderr",
          "output_type": "stream",
          "text": [
            "     57/100      8.38G      1.468      1.894      1.395      1.339        103        640: 100%|██████████| 73/73 [00:57<00:00,  1.27it/s]\n",
            "                 Class     Images  Instances      Box(P          R      mAP50  mAP50-95)     Mask(P          R      mAP50  mAP50-95): 100%|██████████| 3/3 [00:01<00:00,  1.89it/s]"
          ]
        },
        {
          "metadata": {
            "tags": null
          },
          "name": "stdout",
          "output_type": "stream",
          "text": [
            "                   all         74        296      0.497      0.458      0.478      0.291      0.527       0.45      0.485      0.272\n"
          ]
        },
        {
          "metadata": {
            "tags": null
          },
          "name": "stderr",
          "output_type": "stream",
          "text": [
            "\n"
          ]
        },
        {
          "metadata": {
            "tags": null
          },
          "name": "stdout",
          "output_type": "stream",
          "text": [
            "\n",
            "      Epoch    GPU_mem   box_loss   seg_loss   cls_loss   dfl_loss  Instances       Size\n"
          ]
        },
        {
          "metadata": {
            "tags": null
          },
          "name": "stderr",
          "output_type": "stream",
          "text": [
            "     58/100      8.16G      1.472      1.923      1.399      1.334        166        640: 100%|██████████| 73/73 [00:57<00:00,  1.27it/s]\n",
            "                 Class     Images  Instances      Box(P          R      mAP50  mAP50-95)     Mask(P          R      mAP50  mAP50-95): 100%|██████████| 3/3 [00:02<00:00,  1.28it/s]"
          ]
        },
        {
          "metadata": {
            "tags": null
          },
          "name": "stdout",
          "output_type": "stream",
          "text": [
            "                   all         74        296      0.578      0.431      0.462      0.256      0.583      0.432      0.466      0.247\n"
          ]
        },
        {
          "metadata": {
            "tags": null
          },
          "name": "stderr",
          "output_type": "stream",
          "text": [
            "\n"
          ]
        },
        {
          "metadata": {
            "tags": null
          },
          "name": "stdout",
          "output_type": "stream",
          "text": [
            "\n",
            "      Epoch    GPU_mem   box_loss   seg_loss   cls_loss   dfl_loss  Instances       Size\n"
          ]
        },
        {
          "metadata": {
            "tags": null
          },
          "name": "stderr",
          "output_type": "stream",
          "text": [
            "     59/100      8.34G      1.454      1.863       1.33       1.29        131        640: 100%|██████████| 73/73 [00:57<00:00,  1.27it/s]\n",
            "                 Class     Images  Instances      Box(P          R      mAP50  mAP50-95)     Mask(P          R      mAP50  mAP50-95): 100%|██████████| 3/3 [00:01<00:00,  1.98it/s]"
          ]
        },
        {
          "metadata": {
            "tags": null
          },
          "name": "stdout",
          "output_type": "stream",
          "text": [
            "                   all         74        296      0.469      0.473      0.468      0.274      0.459      0.457      0.467      0.262\n"
          ]
        },
        {
          "metadata": {
            "tags": null
          },
          "name": "stderr",
          "output_type": "stream",
          "text": [
            "\n"
          ]
        },
        {
          "metadata": {
            "tags": null
          },
          "name": "stdout",
          "output_type": "stream",
          "text": [
            "\n",
            "      Epoch    GPU_mem   box_loss   seg_loss   cls_loss   dfl_loss  Instances       Size\n"
          ]
        },
        {
          "metadata": {
            "tags": null
          },
          "name": "stderr",
          "output_type": "stream",
          "text": [
            "     60/100      8.45G      1.444      1.906      1.358      1.312        129        640: 100%|██████████| 73/73 [00:57<00:00,  1.28it/s]\n",
            "                 Class     Images  Instances      Box(P          R      mAP50  mAP50-95)     Mask(P          R      mAP50  mAP50-95): 100%|██████████| 3/3 [00:01<00:00,  1.98it/s]"
          ]
        },
        {
          "metadata": {
            "tags": null
          },
          "name": "stdout",
          "output_type": "stream",
          "text": [
            "                   all         74        296      0.391      0.448      0.438      0.258      0.594      0.354      0.452      0.258\n"
          ]
        },
        {
          "metadata": {
            "tags": null
          },
          "name": "stderr",
          "output_type": "stream",
          "text": [
            "\n"
          ]
        },
        {
          "metadata": {
            "tags": null
          },
          "name": "stdout",
          "output_type": "stream",
          "text": [
            "\n",
            "      Epoch    GPU_mem   box_loss   seg_loss   cls_loss   dfl_loss  Instances       Size\n"
          ]
        },
        {
          "metadata": {
            "tags": null
          },
          "name": "stderr",
          "output_type": "stream",
          "text": [
            "     61/100      8.38G      1.424      1.866      1.333      1.317        172        640: 100%|██████████| 73/73 [00:58<00:00,  1.25it/s]\n",
            "                 Class     Images  Instances      Box(P          R      mAP50  mAP50-95)     Mask(P          R      mAP50  mAP50-95): 100%|██████████| 3/3 [00:01<00:00,  1.61it/s]"
          ]
        },
        {
          "metadata": {
            "tags": null
          },
          "name": "stdout",
          "output_type": "stream",
          "text": [
            "                   all         74        296      0.509      0.416      0.471      0.259      0.496      0.408      0.464      0.254\n"
          ]
        },
        {
          "metadata": {
            "tags": null
          },
          "name": "stderr",
          "output_type": "stream",
          "text": [
            "\n"
          ]
        },
        {
          "metadata": {
            "tags": null
          },
          "name": "stdout",
          "output_type": "stream",
          "text": [
            "\n",
            "      Epoch    GPU_mem   box_loss   seg_loss   cls_loss   dfl_loss  Instances       Size\n"
          ]
        },
        {
          "metadata": {
            "tags": null
          },
          "name": "stderr",
          "output_type": "stream",
          "text": [
            "     62/100      8.21G      1.435      1.865      1.293      1.301        114        640: 100%|██████████| 73/73 [00:57<00:00,  1.27it/s]\n",
            "                 Class     Images  Instances      Box(P          R      mAP50  mAP50-95)     Mask(P          R      mAP50  mAP50-95): 100%|██████████| 3/3 [00:01<00:00,  1.51it/s]"
          ]
        },
        {
          "metadata": {
            "tags": null
          },
          "name": "stdout",
          "output_type": "stream",
          "text": [
            "                   all         74        296      0.534      0.535      0.538      0.323      0.508      0.492      0.518      0.305\n"
          ]
        },
        {
          "metadata": {
            "tags": null
          },
          "name": "stderr",
          "output_type": "stream",
          "text": [
            "\n"
          ]
        },
        {
          "metadata": {
            "tags": null
          },
          "name": "stdout",
          "output_type": "stream",
          "text": [
            "\n",
            "      Epoch    GPU_mem   box_loss   seg_loss   cls_loss   dfl_loss  Instances       Size\n"
          ]
        },
        {
          "metadata": {
            "tags": null
          },
          "name": "stderr",
          "output_type": "stream",
          "text": [
            "     63/100      8.36G      1.431      1.849      1.316      1.291         86        640: 100%|██████████| 73/73 [00:57<00:00,  1.26it/s]\n",
            "                 Class     Images  Instances      Box(P          R      mAP50  mAP50-95)     Mask(P          R      mAP50  mAP50-95): 100%|██████████| 3/3 [00:01<00:00,  1.96it/s]"
          ]
        },
        {
          "metadata": {
            "tags": null
          },
          "name": "stdout",
          "output_type": "stream",
          "text": [
            "                   all         74        296      0.416      0.465      0.438      0.269      0.408      0.457      0.436      0.249\n"
          ]
        },
        {
          "metadata": {
            "tags": null
          },
          "name": "stderr",
          "output_type": "stream",
          "text": [
            "\n"
          ]
        },
        {
          "metadata": {
            "tags": null
          },
          "name": "stdout",
          "output_type": "stream",
          "text": [
            "\n",
            "      Epoch    GPU_mem   box_loss   seg_loss   cls_loss   dfl_loss  Instances       Size\n"
          ]
        },
        {
          "metadata": {
            "tags": null
          },
          "name": "stderr",
          "output_type": "stream",
          "text": [
            "     64/100      8.33G      1.392      1.799      1.292      1.297         90        640: 100%|██████████| 73/73 [00:57<00:00,  1.28it/s]\n",
            "                 Class     Images  Instances      Box(P          R      mAP50  mAP50-95)     Mask(P          R      mAP50  mAP50-95): 100%|██████████| 3/3 [00:01<00:00,  1.52it/s]"
          ]
        },
        {
          "metadata": {
            "tags": null
          },
          "name": "stdout",
          "output_type": "stream",
          "text": [
            "                   all         74        296      0.475       0.55      0.504       0.28      0.441      0.516      0.478      0.268\n"
          ]
        },
        {
          "metadata": {
            "tags": null
          },
          "name": "stderr",
          "output_type": "stream",
          "text": [
            "\n"
          ]
        },
        {
          "metadata": {
            "tags": null
          },
          "name": "stdout",
          "output_type": "stream",
          "text": [
            "\n",
            "      Epoch    GPU_mem   box_loss   seg_loss   cls_loss   dfl_loss  Instances       Size\n"
          ]
        },
        {
          "metadata": {
            "tags": null
          },
          "name": "stderr",
          "output_type": "stream",
          "text": [
            "     65/100      8.37G      1.392      1.828      1.271      1.283         85        640: 100%|██████████| 73/73 [00:57<00:00,  1.26it/s]\n",
            "                 Class     Images  Instances      Box(P          R      mAP50  mAP50-95)     Mask(P          R      mAP50  mAP50-95): 100%|██████████| 3/3 [00:01<00:00,  1.98it/s]"
          ]
        },
        {
          "metadata": {
            "tags": null
          },
          "name": "stdout",
          "output_type": "stream",
          "text": [
            "                   all         74        296      0.516      0.476      0.497      0.287       0.53      0.492      0.509      0.273\n"
          ]
        },
        {
          "metadata": {
            "tags": null
          },
          "name": "stderr",
          "output_type": "stream",
          "text": [
            "\n"
          ]
        },
        {
          "metadata": {
            "tags": null
          },
          "name": "stdout",
          "output_type": "stream",
          "text": [
            "\n",
            "      Epoch    GPU_mem   box_loss   seg_loss   cls_loss   dfl_loss  Instances       Size\n"
          ]
        },
        {
          "metadata": {
            "tags": null
          },
          "name": "stderr",
          "output_type": "stream",
          "text": [
            "     66/100      8.32G      1.381       1.79      1.231      1.279        130        640: 100%|██████████| 73/73 [00:57<00:00,  1.27it/s]\n",
            "                 Class     Images  Instances      Box(P          R      mAP50  mAP50-95)     Mask(P          R      mAP50  mAP50-95): 100%|██████████| 3/3 [00:01<00:00,  1.98it/s]"
          ]
        },
        {
          "metadata": {
            "tags": null
          },
          "name": "stdout",
          "output_type": "stream",
          "text": [
            "                   all         74        296       0.52      0.511       0.48      0.284      0.492      0.509      0.486      0.276\n"
          ]
        },
        {
          "metadata": {
            "tags": null
          },
          "name": "stderr",
          "output_type": "stream",
          "text": [
            "\n"
          ]
        },
        {
          "metadata": {
            "tags": null
          },
          "name": "stdout",
          "output_type": "stream",
          "text": [
            "\n",
            "      Epoch    GPU_mem   box_loss   seg_loss   cls_loss   dfl_loss  Instances       Size\n"
          ]
        },
        {
          "metadata": {
            "tags": null
          },
          "name": "stderr",
          "output_type": "stream",
          "text": [
            "     67/100      8.26G      1.401      1.798      1.263      1.288        113        640: 100%|██████████| 73/73 [00:57<00:00,  1.27it/s]\n",
            "                 Class     Images  Instances      Box(P          R      mAP50  mAP50-95)     Mask(P          R      mAP50  mAP50-95): 100%|██████████| 3/3 [00:01<00:00,  1.59it/s]"
          ]
        },
        {
          "metadata": {
            "tags": null
          },
          "name": "stdout",
          "output_type": "stream",
          "text": [
            "                   all         74        296      0.502      0.473      0.496      0.293      0.488       0.48      0.498      0.294\n"
          ]
        },
        {
          "metadata": {
            "tags": null
          },
          "name": "stderr",
          "output_type": "stream",
          "text": [
            "\n"
          ]
        },
        {
          "metadata": {
            "tags": null
          },
          "name": "stdout",
          "output_type": "stream",
          "text": [
            "\n",
            "      Epoch    GPU_mem   box_loss   seg_loss   cls_loss   dfl_loss  Instances       Size\n"
          ]
        },
        {
          "metadata": {
            "tags": null
          },
          "name": "stderr",
          "output_type": "stream",
          "text": [
            "     68/100      8.46G      1.387      1.817      1.224      1.293        118        640: 100%|██████████| 73/73 [00:57<00:00,  1.26it/s]\n",
            "                 Class     Images  Instances      Box(P          R      mAP50  mAP50-95)     Mask(P          R      mAP50  mAP50-95): 100%|██████████| 3/3 [00:01<00:00,  1.78it/s]"
          ]
        },
        {
          "metadata": {
            "tags": null
          },
          "name": "stdout",
          "output_type": "stream",
          "text": [
            "                   all         74        296      0.489       0.53      0.519      0.309      0.539      0.514       0.53      0.304\n"
          ]
        },
        {
          "metadata": {
            "tags": null
          },
          "name": "stderr",
          "output_type": "stream",
          "text": [
            "\n"
          ]
        },
        {
          "metadata": {
            "tags": null
          },
          "name": "stdout",
          "output_type": "stream",
          "text": [
            "\n",
            "      Epoch    GPU_mem   box_loss   seg_loss   cls_loss   dfl_loss  Instances       Size\n"
          ]
        },
        {
          "metadata": {
            "tags": null
          },
          "name": "stderr",
          "output_type": "stream",
          "text": [
            "     69/100      8.36G      1.356      1.771      1.206      1.274        137        640: 100%|██████████| 73/73 [00:57<00:00,  1.27it/s]\n",
            "                 Class     Images  Instances      Box(P          R      mAP50  mAP50-95)     Mask(P          R      mAP50  mAP50-95): 100%|██████████| 3/3 [00:01<00:00,  2.01it/s]"
          ]
        },
        {
          "metadata": {
            "tags": null
          },
          "name": "stdout",
          "output_type": "stream",
          "text": [
            "                   all         74        296      0.528      0.466      0.432      0.254      0.565      0.479      0.459      0.253\n"
          ]
        },
        {
          "metadata": {
            "tags": null
          },
          "name": "stderr",
          "output_type": "stream",
          "text": [
            "\n"
          ]
        },
        {
          "metadata": {
            "tags": null
          },
          "name": "stdout",
          "output_type": "stream",
          "text": [
            "\n",
            "      Epoch    GPU_mem   box_loss   seg_loss   cls_loss   dfl_loss  Instances       Size\n"
          ]
        },
        {
          "metadata": {
            "tags": null
          },
          "name": "stderr",
          "output_type": "stream",
          "text": [
            "     70/100       8.2G      1.359      1.735      1.199      1.265        118        640: 100%|██████████| 73/73 [00:58<00:00,  1.26it/s]\n",
            "                 Class     Images  Instances      Box(P          R      mAP50  mAP50-95)     Mask(P          R      mAP50  mAP50-95): 100%|██████████| 3/3 [00:01<00:00,  1.75it/s]"
          ]
        },
        {
          "metadata": {
            "tags": null
          },
          "name": "stdout",
          "output_type": "stream",
          "text": [
            "                   all         74        296      0.616      0.528       0.56      0.337      0.604      0.538      0.576      0.334\n"
          ]
        },
        {
          "metadata": {
            "tags": null
          },
          "name": "stderr",
          "output_type": "stream",
          "text": [
            "\n"
          ]
        },
        {
          "metadata": {
            "tags": null
          },
          "name": "stdout",
          "output_type": "stream",
          "text": [
            "\n",
            "      Epoch    GPU_mem   box_loss   seg_loss   cls_loss   dfl_loss  Instances       Size\n"
          ]
        },
        {
          "metadata": {
            "tags": null
          },
          "name": "stderr",
          "output_type": "stream",
          "text": [
            "     71/100      8.28G      1.348      1.761      1.178      1.261         90        640: 100%|██████████| 73/73 [00:59<00:00,  1.24it/s]\n",
            "                 Class     Images  Instances      Box(P          R      mAP50  mAP50-95)     Mask(P          R      mAP50  mAP50-95): 100%|██████████| 3/3 [00:01<00:00,  1.94it/s]"
          ]
        },
        {
          "metadata": {
            "tags": null
          },
          "name": "stdout",
          "output_type": "stream",
          "text": [
            "                   all         74        296      0.514      0.478      0.501      0.284      0.606      0.428      0.518       0.28\n"
          ]
        },
        {
          "metadata": {
            "tags": null
          },
          "name": "stderr",
          "output_type": "stream",
          "text": [
            "\n"
          ]
        },
        {
          "metadata": {
            "tags": null
          },
          "name": "stdout",
          "output_type": "stream",
          "text": [
            "\n",
            "      Epoch    GPU_mem   box_loss   seg_loss   cls_loss   dfl_loss  Instances       Size\n"
          ]
        },
        {
          "metadata": {
            "tags": null
          },
          "name": "stderr",
          "output_type": "stream",
          "text": [
            "     72/100      8.34G      1.339      1.743      1.167       1.25        123        640: 100%|██████████| 73/73 [00:57<00:00,  1.27it/s]\n",
            "                 Class     Images  Instances      Box(P          R      mAP50  mAP50-95)     Mask(P          R      mAP50  mAP50-95): 100%|██████████| 3/3 [00:02<00:00,  1.47it/s]"
          ]
        },
        {
          "metadata": {
            "tags": null
          },
          "name": "stdout",
          "output_type": "stream",
          "text": [
            "                   all         74        296      0.469       0.52      0.485      0.299      0.477      0.534       0.49       0.29\n"
          ]
        },
        {
          "metadata": {
            "tags": null
          },
          "name": "stderr",
          "output_type": "stream",
          "text": [
            "\n"
          ]
        },
        {
          "metadata": {
            "tags": null
          },
          "name": "stdout",
          "output_type": "stream",
          "text": [
            "\n",
            "      Epoch    GPU_mem   box_loss   seg_loss   cls_loss   dfl_loss  Instances       Size\n"
          ]
        },
        {
          "metadata": {
            "tags": null
          },
          "name": "stderr",
          "output_type": "stream",
          "text": [
            "     73/100      8.38G      1.336      1.753      1.145      1.243         71        640: 100%|██████████| 73/73 [00:59<00:00,  1.23it/s]\n",
            "                 Class     Images  Instances      Box(P          R      mAP50  mAP50-95)     Mask(P          R      mAP50  mAP50-95): 100%|██████████| 3/3 [00:01<00:00,  1.95it/s]"
          ]
        },
        {
          "metadata": {
            "tags": null
          },
          "name": "stdout",
          "output_type": "stream",
          "text": [
            "                   all         74        296      0.578      0.471      0.509      0.282      0.559      0.461      0.479      0.256\n"
          ]
        },
        {
          "metadata": {
            "tags": null
          },
          "name": "stderr",
          "output_type": "stream",
          "text": [
            "\n"
          ]
        },
        {
          "metadata": {
            "tags": null
          },
          "name": "stdout",
          "output_type": "stream",
          "text": [
            "\n",
            "      Epoch    GPU_mem   box_loss   seg_loss   cls_loss   dfl_loss  Instances       Size\n"
          ]
        },
        {
          "metadata": {
            "tags": null
          },
          "name": "stderr",
          "output_type": "stream",
          "text": [
            "     74/100       8.5G      1.326      1.726      1.135      1.244        128        640: 100%|██████████| 73/73 [00:58<00:00,  1.25it/s]\n",
            "                 Class     Images  Instances      Box(P          R      mAP50  mAP50-95)     Mask(P          R      mAP50  mAP50-95): 100%|██████████| 3/3 [00:01<00:00,  1.98it/s]"
          ]
        },
        {
          "metadata": {
            "tags": null
          },
          "name": "stdout",
          "output_type": "stream",
          "text": [
            "                   all         74        296      0.502      0.563      0.538      0.307      0.513      0.573      0.543      0.285\n"
          ]
        },
        {
          "metadata": {
            "tags": null
          },
          "name": "stderr",
          "output_type": "stream",
          "text": [
            "\n"
          ]
        },
        {
          "metadata": {
            "tags": null
          },
          "name": "stdout",
          "output_type": "stream",
          "text": [
            "\n",
            "      Epoch    GPU_mem   box_loss   seg_loss   cls_loss   dfl_loss  Instances       Size\n"
          ]
        },
        {
          "metadata": {
            "tags": null
          },
          "name": "stderr",
          "output_type": "stream",
          "text": [
            "     75/100      8.31G       1.31      1.716      1.103       1.24         93        640: 100%|██████████| 73/73 [00:58<00:00,  1.24it/s]\n",
            "                 Class     Images  Instances      Box(P          R      mAP50  mAP50-95)     Mask(P          R      mAP50  mAP50-95): 100%|██████████| 3/3 [00:02<00:00,  1.39it/s]"
          ]
        },
        {
          "metadata": {
            "tags": null
          },
          "name": "stdout",
          "output_type": "stream",
          "text": [
            "                   all         74        296      0.492      0.609      0.553       0.31      0.497      0.604      0.535      0.297\n"
          ]
        },
        {
          "metadata": {
            "tags": null
          },
          "name": "stderr",
          "output_type": "stream",
          "text": [
            "\n"
          ]
        },
        {
          "metadata": {
            "tags": null
          },
          "name": "stdout",
          "output_type": "stream",
          "text": [
            "\n",
            "      Epoch    GPU_mem   box_loss   seg_loss   cls_loss   dfl_loss  Instances       Size\n"
          ]
        },
        {
          "metadata": {
            "tags": null
          },
          "name": "stderr",
          "output_type": "stream",
          "text": [
            "     76/100      8.28G      1.305       1.69      1.117       1.24        125        640: 100%|██████████| 73/73 [00:57<00:00,  1.27it/s]\n",
            "                 Class     Images  Instances      Box(P          R      mAP50  mAP50-95)     Mask(P          R      mAP50  mAP50-95): 100%|██████████| 3/3 [00:01<00:00,  1.99it/s]"
          ]
        },
        {
          "metadata": {
            "tags": null
          },
          "name": "stdout",
          "output_type": "stream",
          "text": [
            "                   all         74        296      0.555      0.566      0.547      0.326      0.545       0.57      0.546      0.311\n"
          ]
        },
        {
          "metadata": {
            "tags": null
          },
          "name": "stderr",
          "output_type": "stream",
          "text": [
            "\n"
          ]
        },
        {
          "metadata": {
            "tags": null
          },
          "name": "stdout",
          "output_type": "stream",
          "text": [
            "\n",
            "      Epoch    GPU_mem   box_loss   seg_loss   cls_loss   dfl_loss  Instances       Size\n"
          ]
        },
        {
          "output_type": "stream",
          "name": "stderr",
          "text": [
            "     77/100      8.34G      1.288      1.685       1.09      1.233        179        640: 100%|██████████| 73/73 [00:57<00:00,  1.27it/s]\n",
            "                 Class     Images  Instances      Box(P          R      mAP50  mAP50-95)     Mask(P          R      mAP50  mAP50-95): 100%|██████████| 3/3 [00:01<00:00,  1.91it/s]"
          ]
        },
        {
          "output_type": "stream",
          "name": "stdout",
          "text": [
            "                   all         74        296       0.52      0.487      0.527      0.296      0.501      0.512      0.514      0.287\n"
          ]
        },
        {
          "output_type": "stream",
          "name": "stderr",
          "text": [
            "\n"
          ]
        },
        {
          "output_type": "stream",
          "name": "stdout",
          "text": [
            "\n",
            "      Epoch    GPU_mem   box_loss   seg_loss   cls_loss   dfl_loss  Instances       Size\n"
          ]
        },
        {
          "output_type": "stream",
          "name": "stderr",
          "text": [
            "     78/100      8.21G      1.277      1.675      1.077      1.214        101        640: 100%|██████████| 73/73 [00:57<00:00,  1.27it/s]\n",
            "                 Class     Images  Instances      Box(P          R      mAP50  mAP50-95)     Mask(P          R      mAP50  mAP50-95): 100%|██████████| 3/3 [00:02<00:00,  1.42it/s]"
          ]
        },
        {
          "output_type": "stream",
          "name": "stdout",
          "text": [
            "                   all         74        296      0.533      0.548       0.55      0.306      0.496       0.52      0.511      0.294\n"
          ]
        },
        {
          "output_type": "stream",
          "name": "stderr",
          "text": [
            "\n"
          ]
        },
        {
          "output_type": "stream",
          "name": "stdout",
          "text": [
            "\n",
            "      Epoch    GPU_mem   box_loss   seg_loss   cls_loss   dfl_loss  Instances       Size\n"
          ]
        },
        {
          "output_type": "stream",
          "name": "stderr",
          "text": [
            "     79/100      8.29G      1.276      1.664      1.052      1.216        115        640: 100%|██████████| 73/73 [00:57<00:00,  1.26it/s]\n",
            "                 Class     Images  Instances      Box(P          R      mAP50  mAP50-95)     Mask(P          R      mAP50  mAP50-95): 100%|██████████| 3/3 [00:01<00:00,  2.00it/s]"
          ]
        },
        {
          "output_type": "stream",
          "name": "stdout",
          "text": [
            "                   all         74        296      0.538      0.529      0.554      0.321      0.524      0.523       0.54        0.3\n"
          ]
        },
        {
          "output_type": "stream",
          "name": "stderr",
          "text": [
            "\n"
          ]
        },
        {
          "output_type": "stream",
          "name": "stdout",
          "text": [
            "\n",
            "      Epoch    GPU_mem   box_loss   seg_loss   cls_loss   dfl_loss  Instances       Size\n"
          ]
        },
        {
          "output_type": "stream",
          "name": "stderr",
          "text": [
            "     80/100      8.39G      1.263      1.676      1.056       1.23         70        640: 100%|██████████| 73/73 [00:57<00:00,  1.28it/s]\n",
            "                 Class     Images  Instances      Box(P          R      mAP50  mAP50-95)     Mask(P          R      mAP50  mAP50-95): 100%|██████████| 3/3 [00:01<00:00,  1.83it/s]"
          ]
        },
        {
          "output_type": "stream",
          "name": "stdout",
          "text": [
            "                   all         74        296      0.636      0.535      0.559      0.301      0.635      0.514      0.556      0.295\n"
          ]
        },
        {
          "output_type": "stream",
          "name": "stderr",
          "text": [
            "\n"
          ]
        },
        {
          "output_type": "stream",
          "name": "stdout",
          "text": [
            "\n",
            "      Epoch    GPU_mem   box_loss   seg_loss   cls_loss   dfl_loss  Instances       Size\n"
          ]
        },
        {
          "output_type": "stream",
          "name": "stderr",
          "text": [
            "     81/100      8.33G      1.276      1.676       1.05      1.209        106        640: 100%|██████████| 73/73 [00:58<00:00,  1.26it/s]\n",
            "                 Class     Images  Instances      Box(P          R      mAP50  mAP50-95)     Mask(P          R      mAP50  mAP50-95): 100%|██████████| 3/3 [00:01<00:00,  1.59it/s]"
          ]
        },
        {
          "output_type": "stream",
          "name": "stdout",
          "text": [
            "                   all         74        296      0.574      0.533      0.567      0.332      0.571      0.528      0.553      0.331\n"
          ]
        },
        {
          "output_type": "stream",
          "name": "stderr",
          "text": [
            "\n"
          ]
        },
        {
          "output_type": "stream",
          "name": "stdout",
          "text": [
            "\n",
            "      Epoch    GPU_mem   box_loss   seg_loss   cls_loss   dfl_loss  Instances       Size\n"
          ]
        },
        {
          "output_type": "stream",
          "name": "stderr",
          "text": [
            "     82/100      8.23G      1.249      1.646      1.024      1.211        112        640: 100%|██████████| 73/73 [00:57<00:00,  1.28it/s]\n",
            "                 Class     Images  Instances      Box(P          R      mAP50  mAP50-95)     Mask(P          R      mAP50  mAP50-95): 100%|██████████| 3/3 [00:01<00:00,  2.00it/s]"
          ]
        },
        {
          "output_type": "stream",
          "name": "stdout",
          "text": [
            "                   all         74        296      0.499       0.45      0.474      0.283      0.515      0.463      0.482      0.277\n"
          ]
        },
        {
          "output_type": "stream",
          "name": "stderr",
          "text": [
            "\n"
          ]
        },
        {
          "output_type": "stream",
          "name": "stdout",
          "text": [
            "\n",
            "      Epoch    GPU_mem   box_loss   seg_loss   cls_loss   dfl_loss  Instances       Size\n"
          ]
        },
        {
          "output_type": "stream",
          "name": "stderr",
          "text": [
            "     83/100      8.35G      1.251       1.64      1.048       1.21        154        640: 100%|██████████| 73/73 [00:57<00:00,  1.28it/s]\n",
            "                 Class     Images  Instances      Box(P          R      mAP50  mAP50-95)     Mask(P          R      mAP50  mAP50-95): 100%|██████████| 3/3 [00:02<00:00,  1.50it/s]"
          ]
        },
        {
          "output_type": "stream",
          "name": "stdout",
          "text": [
            "                   all         74        296      0.503       0.52       0.54      0.296      0.581      0.477      0.536       0.29\n"
          ]
        },
        {
          "output_type": "stream",
          "name": "stderr",
          "text": [
            "\n"
          ]
        },
        {
          "output_type": "stream",
          "name": "stdout",
          "text": [
            "\n",
            "      Epoch    GPU_mem   box_loss   seg_loss   cls_loss   dfl_loss  Instances       Size\n"
          ]
        },
        {
          "output_type": "stream",
          "name": "stderr",
          "text": [
            "     84/100      8.23G      1.258      1.655      1.017      1.203         73        640: 100%|██████████| 73/73 [00:57<00:00,  1.26it/s]\n",
            "                 Class     Images  Instances      Box(P          R      mAP50  mAP50-95)     Mask(P          R      mAP50  mAP50-95): 100%|██████████| 3/3 [00:01<00:00,  1.96it/s]"
          ]
        },
        {
          "output_type": "stream",
          "name": "stdout",
          "text": [
            "                   all         74        296      0.457      0.588      0.519      0.287      0.463      0.597      0.527      0.279\n"
          ]
        },
        {
          "output_type": "stream",
          "name": "stderr",
          "text": [
            "\n"
          ]
        },
        {
          "output_type": "stream",
          "name": "stdout",
          "text": [
            "\n",
            "      Epoch    GPU_mem   box_loss   seg_loss   cls_loss   dfl_loss  Instances       Size\n"
          ]
        },
        {
          "output_type": "stream",
          "name": "stderr",
          "text": [
            "     85/100      8.45G      1.247      1.616      1.008      1.206        122        640: 100%|██████████| 73/73 [00:57<00:00,  1.26it/s]\n",
            "                 Class     Images  Instances      Box(P          R      mAP50  mAP50-95)     Mask(P          R      mAP50  mAP50-95): 100%|██████████| 3/3 [00:01<00:00,  2.01it/s]"
          ]
        },
        {
          "output_type": "stream",
          "name": "stdout",
          "text": [
            "                   all         74        296      0.508      0.519      0.504      0.286      0.522      0.527      0.517      0.281\n"
          ]
        },
        {
          "output_type": "stream",
          "name": "stderr",
          "text": [
            "\n"
          ]
        },
        {
          "output_type": "stream",
          "name": "stdout",
          "text": [
            "\n",
            "      Epoch    GPU_mem   box_loss   seg_loss   cls_loss   dfl_loss  Instances       Size\n"
          ]
        },
        {
          "output_type": "stream",
          "name": "stderr",
          "text": [
            "     86/100      8.16G      1.242      1.643      0.995      1.195        147        640: 100%|██████████| 73/73 [00:57<00:00,  1.27it/s]\n",
            "                 Class     Images  Instances      Box(P          R      mAP50  mAP50-95)     Mask(P          R      mAP50  mAP50-95): 100%|██████████| 3/3 [00:01<00:00,  1.61it/s]"
          ]
        },
        {
          "output_type": "stream",
          "name": "stdout",
          "text": [
            "                   all         74        296      0.517      0.493      0.495      0.285      0.514      0.505      0.499      0.282\n"
          ]
        },
        {
          "output_type": "stream",
          "name": "stderr",
          "text": [
            "\n"
          ]
        },
        {
          "output_type": "stream",
          "name": "stdout",
          "text": [
            "\n",
            "      Epoch    GPU_mem   box_loss   seg_loss   cls_loss   dfl_loss  Instances       Size\n"
          ]
        },
        {
          "output_type": "stream",
          "name": "stderr",
          "text": [
            "     87/100      8.28G      1.199      1.592      0.964      1.168         87        640: 100%|██████████| 73/73 [00:57<00:00,  1.27it/s]\n",
            "                 Class     Images  Instances      Box(P          R      mAP50  mAP50-95)     Mask(P          R      mAP50  mAP50-95): 100%|██████████| 3/3 [00:01<00:00,  1.57it/s]"
          ]
        },
        {
          "output_type": "stream",
          "name": "stdout",
          "text": [
            "                   all         74        296      0.514      0.515      0.519      0.295      0.519      0.526      0.531      0.288\n"
          ]
        },
        {
          "output_type": "stream",
          "name": "stderr",
          "text": [
            "\n"
          ]
        },
        {
          "output_type": "stream",
          "name": "stdout",
          "text": [
            "\n",
            "      Epoch    GPU_mem   box_loss   seg_loss   cls_loss   dfl_loss  Instances       Size\n"
          ]
        },
        {
          "output_type": "stream",
          "name": "stderr",
          "text": [
            "     88/100      8.36G      1.202      1.554     0.9599      1.173        180        640: 100%|██████████| 73/73 [00:57<00:00,  1.26it/s]\n",
            "                 Class     Images  Instances      Box(P          R      mAP50  mAP50-95)     Mask(P          R      mAP50  mAP50-95): 100%|██████████| 3/3 [00:01<00:00,  1.93it/s]"
          ]
        },
        {
          "output_type": "stream",
          "name": "stdout",
          "text": [
            "                   all         74        296      0.535      0.461      0.526        0.3       0.55       0.48       0.54      0.293\n"
          ]
        },
        {
          "output_type": "stream",
          "name": "stderr",
          "text": [
            "\n"
          ]
        },
        {
          "output_type": "stream",
          "name": "stdout",
          "text": [
            "\n",
            "      Epoch    GPU_mem   box_loss   seg_loss   cls_loss   dfl_loss  Instances       Size\n"
          ]
        },
        {
          "output_type": "stream",
          "name": "stderr",
          "text": [
            "     89/100      8.34G      1.165      1.545     0.9291      1.172        124        640: 100%|██████████| 73/73 [00:57<00:00,  1.27it/s]\n",
            "                 Class     Images  Instances      Box(P          R      mAP50  mAP50-95)     Mask(P          R      mAP50  mAP50-95): 100%|██████████| 3/3 [00:01<00:00,  1.52it/s]"
          ]
        },
        {
          "output_type": "stream",
          "name": "stdout",
          "text": [
            "                   all         74        296      0.515      0.494      0.495      0.299      0.525        0.5      0.515      0.296\n"
          ]
        },
        {
          "output_type": "stream",
          "name": "stderr",
          "text": [
            "\n"
          ]
        },
        {
          "output_type": "stream",
          "name": "stdout",
          "text": [
            "\n",
            "      Epoch    GPU_mem   box_loss   seg_loss   cls_loss   dfl_loss  Instances       Size\n"
          ]
        },
        {
          "output_type": "stream",
          "name": "stderr",
          "text": [
            "     90/100      8.37G      1.168      1.552     0.9322      1.172        105        640: 100%|██████████| 73/73 [00:57<00:00,  1.26it/s]\n",
            "                 Class     Images  Instances      Box(P          R      mAP50  mAP50-95)     Mask(P          R      mAP50  mAP50-95): 100%|██████████| 3/3 [00:01<00:00,  1.75it/s]"
          ]
        },
        {
          "output_type": "stream",
          "name": "stdout",
          "text": [
            "                   all         74        296      0.458      0.588      0.529        0.3      0.472      0.591      0.538      0.301\n"
          ]
        },
        {
          "output_type": "stream",
          "name": "stderr",
          "text": [
            "\n"
          ]
        },
        {
          "output_type": "stream",
          "name": "stdout",
          "text": [
            "Closing dataloader mosaic\n",
            "\u001b[34m\u001b[1malbumentations: \u001b[0mBlur(p=0.01, blur_limit=(3, 7)), MedianBlur(p=0.01, blur_limit=(3, 7)), ToGray(p=0.01, num_output_channels=3, method='weighted_average'), CLAHE(p=0.01, clip_limit=(1, 4.0), tile_grid_size=(8, 8))\n",
            "\n",
            "      Epoch    GPU_mem   box_loss   seg_loss   cls_loss   dfl_loss  Instances       Size\n"
          ]
        },
        {
          "output_type": "stream",
          "name": "stderr",
          "text": [
            "     91/100      8.24G      1.223        1.6     0.8986      1.228         60        640: 100%|██████████| 73/73 [00:56<00:00,  1.29it/s]\n",
            "                 Class     Images  Instances      Box(P          R      mAP50  mAP50-95)     Mask(P          R      mAP50  mAP50-95): 100%|██████████| 3/3 [00:01<00:00,  1.89it/s]"
          ]
        },
        {
          "output_type": "stream",
          "name": "stdout",
          "text": [
            "                   all         74        296      0.519      0.498      0.541      0.316      0.452      0.558      0.532      0.308\n"
          ]
        },
        {
          "output_type": "stream",
          "name": "stderr",
          "text": [
            "\n"
          ]
        },
        {
          "output_type": "stream",
          "name": "stdout",
          "text": [
            "\n",
            "      Epoch    GPU_mem   box_loss   seg_loss   cls_loss   dfl_loss  Instances       Size\n"
          ]
        },
        {
          "output_type": "stream",
          "name": "stderr",
          "text": [
            "     92/100      8.32G      1.183      1.518     0.8539      1.201         40        640: 100%|██████████| 73/73 [00:54<00:00,  1.34it/s]\n",
            "                 Class     Images  Instances      Box(P          R      mAP50  mAP50-95)     Mask(P          R      mAP50  mAP50-95): 100%|██████████| 3/3 [00:01<00:00,  1.96it/s]"
          ]
        },
        {
          "output_type": "stream",
          "name": "stdout",
          "text": [
            "                   all         74        296      0.575      0.594      0.573      0.338      0.577      0.604      0.566      0.328\n"
          ]
        },
        {
          "output_type": "stream",
          "name": "stderr",
          "text": [
            "\n"
          ]
        },
        {
          "output_type": "stream",
          "name": "stdout",
          "text": [
            "\n",
            "      Epoch    GPU_mem   box_loss   seg_loss   cls_loss   dfl_loss  Instances       Size\n"
          ]
        },
        {
          "output_type": "stream",
          "name": "stderr",
          "text": [
            "     93/100      8.23G       1.19      1.582     0.8501        1.2         54        640: 100%|██████████| 73/73 [00:54<00:00,  1.34it/s]\n",
            "                 Class     Images  Instances      Box(P          R      mAP50  mAP50-95)     Mask(P          R      mAP50  mAP50-95): 100%|██████████| 3/3 [00:01<00:00,  1.93it/s]"
          ]
        },
        {
          "output_type": "stream",
          "name": "stdout",
          "text": [
            "                   all         74        296      0.572      0.542      0.558      0.329      0.584      0.564      0.582      0.328\n"
          ]
        },
        {
          "output_type": "stream",
          "name": "stderr",
          "text": [
            "\n"
          ]
        },
        {
          "output_type": "stream",
          "name": "stdout",
          "text": [
            "\n",
            "      Epoch    GPU_mem   box_loss   seg_loss   cls_loss   dfl_loss  Instances       Size\n"
          ]
        },
        {
          "output_type": "stream",
          "name": "stderr",
          "text": [
            "     94/100      8.19G      1.172      1.555     0.8246      1.174         67        640: 100%|██████████| 73/73 [00:54<00:00,  1.34it/s]\n",
            "                 Class     Images  Instances      Box(P          R      mAP50  mAP50-95)     Mask(P          R      mAP50  mAP50-95): 100%|██████████| 3/3 [00:01<00:00,  1.88it/s]"
          ]
        },
        {
          "output_type": "stream",
          "name": "stdout",
          "text": [
            "                   all         74        296      0.617      0.493       0.54      0.309      0.623      0.503      0.538      0.305\n"
          ]
        },
        {
          "output_type": "stream",
          "name": "stderr",
          "text": [
            "\n"
          ]
        },
        {
          "output_type": "stream",
          "name": "stdout",
          "text": [
            "\n",
            "      Epoch    GPU_mem   box_loss   seg_loss   cls_loss   dfl_loss  Instances       Size\n"
          ]
        },
        {
          "output_type": "stream",
          "name": "stderr",
          "text": [
            "     95/100      8.25G      1.138      1.508     0.7933      1.168         84        640: 100%|██████████| 73/73 [00:54<00:00,  1.33it/s]\n",
            "                 Class     Images  Instances      Box(P          R      mAP50  mAP50-95)     Mask(P          R      mAP50  mAP50-95): 100%|██████████| 3/3 [00:02<00:00,  1.40it/s]"
          ]
        },
        {
          "output_type": "stream",
          "name": "stdout",
          "text": [
            "                   all         74        296      0.642      0.507      0.557      0.319      0.629      0.507      0.546      0.318\n"
          ]
        },
        {
          "output_type": "stream",
          "name": "stderr",
          "text": [
            "\n"
          ]
        },
        {
          "output_type": "stream",
          "name": "stdout",
          "text": [
            "\n",
            "      Epoch    GPU_mem   box_loss   seg_loss   cls_loss   dfl_loss  Instances       Size\n"
          ]
        },
        {
          "output_type": "stream",
          "name": "stderr",
          "text": [
            "     96/100      8.26G       1.14      1.512     0.7938      1.164         87        640: 100%|██████████| 73/73 [00:54<00:00,  1.33it/s]\n",
            "                 Class     Images  Instances      Box(P          R      mAP50  mAP50-95)     Mask(P          R      mAP50  mAP50-95): 100%|██████████| 3/3 [00:02<00:00,  1.29it/s]"
          ]
        },
        {
          "output_type": "stream",
          "name": "stdout",
          "text": [
            "                   all         74        296      0.608       0.51      0.557      0.323      0.613      0.522      0.561      0.322\n"
          ]
        },
        {
          "output_type": "stream",
          "name": "stderr",
          "text": [
            "\n"
          ]
        },
        {
          "output_type": "stream",
          "name": "stdout",
          "text": [
            "\n",
            "      Epoch    GPU_mem   box_loss   seg_loss   cls_loss   dfl_loss  Instances       Size\n"
          ]
        },
        {
          "output_type": "stream",
          "name": "stderr",
          "text": [
            "     97/100      8.22G      1.125      1.506     0.8014      1.158         48        640: 100%|██████████| 73/73 [00:55<00:00,  1.32it/s]\n",
            "                 Class     Images  Instances      Box(P          R      mAP50  mAP50-95)     Mask(P          R      mAP50  mAP50-95): 100%|██████████| 3/3 [00:01<00:00,  2.00it/s]"
          ]
        },
        {
          "output_type": "stream",
          "name": "stdout",
          "text": [
            "                   all         74        296      0.596      0.529      0.567      0.328      0.593      0.528      0.576      0.324\n"
          ]
        },
        {
          "output_type": "stream",
          "name": "stderr",
          "text": [
            "\n"
          ]
        },
        {
          "output_type": "stream",
          "name": "stdout",
          "text": [
            "\n",
            "      Epoch    GPU_mem   box_loss   seg_loss   cls_loss   dfl_loss  Instances       Size\n"
          ]
        },
        {
          "output_type": "stream",
          "name": "stderr",
          "text": [
            "     98/100      8.35G      1.121      1.504     0.7903      1.155         59        640: 100%|██████████| 73/73 [00:54<00:00,  1.33it/s]\n",
            "                 Class     Images  Instances      Box(P          R      mAP50  mAP50-95)     Mask(P          R      mAP50  mAP50-95): 100%|██████████| 3/3 [00:01<00:00,  2.00it/s]"
          ]
        },
        {
          "output_type": "stream",
          "name": "stdout",
          "text": [
            "                   all         74        296      0.563      0.516      0.555      0.326      0.563      0.522      0.566      0.318\n"
          ]
        },
        {
          "output_type": "stream",
          "name": "stderr",
          "text": [
            "\n"
          ]
        },
        {
          "output_type": "stream",
          "name": "stdout",
          "text": [
            "\n",
            "      Epoch    GPU_mem   box_loss   seg_loss   cls_loss   dfl_loss  Instances       Size\n"
          ]
        },
        {
          "output_type": "stream",
          "name": "stderr",
          "text": [
            "     99/100      8.33G      1.133      1.511      0.788       1.15         61        640: 100%|██████████| 73/73 [00:55<00:00,  1.32it/s]\n",
            "                 Class     Images  Instances      Box(P          R      mAP50  mAP50-95)     Mask(P          R      mAP50  mAP50-95): 100%|██████████| 3/3 [00:01<00:00,  1.94it/s]"
          ]
        },
        {
          "output_type": "stream",
          "name": "stdout",
          "text": [
            "                   all         74        296      0.572      0.532      0.546      0.323       0.58      0.562      0.575      0.317\n"
          ]
        },
        {
          "output_type": "stream",
          "name": "stderr",
          "text": [
            "\n"
          ]
        },
        {
          "output_type": "stream",
          "name": "stdout",
          "text": [
            "\n",
            "      Epoch    GPU_mem   box_loss   seg_loss   cls_loss   dfl_loss  Instances       Size\n"
          ]
        },
        {
          "output_type": "stream",
          "name": "stderr",
          "text": [
            "    100/100       8.3G      1.096      1.475     0.7698      1.149        121        640: 100%|██████████| 73/73 [00:54<00:00,  1.33it/s]\n",
            "                 Class     Images  Instances      Box(P          R      mAP50  mAP50-95)     Mask(P          R      mAP50  mAP50-95): 100%|██████████| 3/3 [00:01<00:00,  1.98it/s]"
          ]
        },
        {
          "output_type": "stream",
          "name": "stdout",
          "text": [
            "                   all         74        296      0.613      0.506      0.557      0.323      0.603      0.511      0.564      0.314\n"
          ]
        },
        {
          "output_type": "stream",
          "name": "stderr",
          "text": [
            "\n"
          ]
        },
        {
          "output_type": "stream",
          "name": "stdout",
          "text": [
            "\n",
            "100 epochs completed in 1.704 hours.\n",
            "Optimizer stripped from runs/segment/train/weights/last.pt, 49.6MB\n",
            "Optimizer stripped from runs/segment/train/weights/best.pt, 49.6MB\n",
            "\n",
            "Validating runs/segment/train/weights/best.pt...\n",
            "Ultralytics 8.3.3 🚀 Python-3.10.12 torch-2.4.1+cu121 CUDA:0 (Tesla T4, 15102MiB)\n",
            "YOLOv8m-seg summary (fused): 263 layers, 24,591,246 parameters, 0 gradients, 98.7 GFLOPs\n"
          ]
        },
        {
          "output_type": "stream",
          "name": "stderr",
          "text": [
            "                 Class     Images  Instances      Box(P          R      mAP50  mAP50-95)     Mask(P          R      mAP50  mAP50-95): 100%|██████████| 3/3 [00:03<00:00,  1.01s/it]\n"
          ]
        },
        {
          "output_type": "stream",
          "name": "stdout",
          "text": [
            "                   all         74        296      0.619      0.529      0.561      0.337      0.603      0.538      0.577      0.333\n",
            "                  Ants          9         70       0.58      0.343      0.416       0.16      0.631      0.429      0.499      0.155\n",
            "              Bed Bugs          2         27      0.848      0.296      0.428      0.151      0.933      0.333       0.48      0.135\n",
            "              Chiggers          2         20      0.236       0.05     0.0848     0.0279          0          0     0.0492     0.0127\n",
            "                 Fleas         15        132       0.66      0.659      0.614      0.267      0.656      0.674      0.675      0.261\n",
            "            Goosebumps          7          7      0.948      0.714      0.933      0.902      0.942      0.714      0.933      0.902\n",
            "              Mosquito          9         11      0.724      0.636      0.726       0.41      0.718      0.636       0.71      0.394\n",
            "              Reupload          3          3      0.386      0.667      0.504      0.473      0.373      0.667      0.504      0.473\n",
            "                Spider         14         14      0.677      0.643      0.613      0.233      0.667      0.643      0.613      0.202\n",
            "                  Tick         12         12      0.513       0.75      0.726      0.408      0.508       0.75      0.726       0.46\n",
            "Speed: 0.3ms preprocess, 13.3ms inference, 0.0ms loss, 3.9ms postprocess per image\n",
            "Results saved to \u001b[1mruns/segment/train\u001b[0m\n",
            "Error: File path/to/test/photo.jpg does not exist.\n"
          ]
        }
      ],
      "source": [
        "def train_model(data_yaml, model_type='yolov8m-seg.pt', epochs=100):\n",
        "    # Load a model\n",
        "    model = YOLO(model_type)\n",
        "\n",
        "    # Train the model\n",
        "    results = model.train(data=data_yaml, epochs=epochs, imgsz=640)\n",
        "\n",
        "    # Save the trained model\n",
        "    model.save('trained_model.pt')\n",
        "\n",
        "def process_photo(photo_path, model_path='trained_model.pt'):\n",
        "    # Load the trained model\n",
        "    model = YOLO(model_path)\n",
        "\n",
        "    # Check if the file exists\n",
        "    if not os.path.exists(photo_path):\n",
        "        print(f\"Error: File {photo_path} does not exist.\")\n",
        "        return None\n",
        "\n",
        "    # Read the photo\n",
        "    img = cv2.imread(photo_path)\n",
        "    if img is None:\n",
        "        print(f\"Error: Unable to read the photo at {photo_path}.\")\n",
        "        return None\n",
        "\n",
        "    # Convert BGR to RGB\n",
        "    img_rgb = cv2.cvtColor(img, cv2.COLOR_BGR2RGB)\n",
        "\n",
        "    # Perform inference\n",
        "    results = model(img_rgb)\n",
        "\n",
        "    # Process results\n",
        "    for r in results:\n",
        "        boxes = r.boxes\n",
        "        masks = r.masks\n",
        "\n",
        "        # Draw bounding boxes and labels\n",
        "        for box in boxes:\n",
        "            b = box.xyxy[0].cpu().numpy().astype(int)\n",
        "            cv2.rectangle(img_rgb, (b[0], b[1]), (b[2], b[3]), (0, 255, 0), 2)\n",
        "            label = f\"{r.names[int(box.cls)]} {box.conf.item():.2f}\"\n",
        "            cv2.putText(img_rgb, label, (b[0], b[1] - 10), cv2.FONT_HERSHEY_SIMPLEX, 0.9, (0, 255, 0), 2)\n",
        "\n",
        "        # Draw segmentation masks\n",
        "        if masks is not None:\n",
        "            for i, mask in enumerate(masks.data):\n",
        "                mask = mask.cpu().numpy()\n",
        "                mask = cv2.resize(mask, (img_rgb.shape[1], img_rgb.shape[0]))\n",
        "                mask = (mask > 0.5).astype(np.uint8) * 255\n",
        "                color = np.random.randint(0, 255, 3).tolist()\n",
        "                img_rgb = cv2.addWeighted(img_rgb, 1, cv2.merge([mask * c for c in color]), 0.5, 0)\n",
        "\n",
        "    return Image.fromarray(img_rgb)\n",
        "\n",
        "# Train the model\n",
        "train_model('/content/drive/MyDrive/Research Project/data.yaml')"
      ]
    },
    {
      "cell_type": "markdown",
      "source": [
        "![image.png](data:image/png;base64,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)"
      ],
      "metadata": {
        "id": "vlhehGygfQKE"
      }
    },
    {
      "cell_type": "markdown",
      "source": [
        "![image.png](data:image/png;base64,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)"
      ],
      "metadata": {
        "id": "DLblMBT1f99p"
      }
    },
    {
      "cell_type": "code",
      "source": [
        "# Process a photo using the trained model\n",
        "photo_path = '/content/drive/MyDrive/Research Project/images/test/images/es_spidersimage97_jpg.rf.d0ab8c52585231691bcb19a2783b64a0.jpg'\n",
        "result_image = process_photo(photo_path)\n",
        "if result_image:\n",
        "    result_image.show()"
      ],
      "metadata": {
        "colab": {
          "base_uri": "https://localhost:8080/"
        },
        "id": "XMCJY5pLJCi_",
        "outputId": "f011530e-0eaa-4cd9-bc18-ffb99bf7b44c"
      },
      "execution_count": 14,
      "outputs": [
        {
          "output_type": "stream",
          "name": "stdout",
          "text": [
            "\n",
            "0: 416x640 (no detections), 86.5ms\n",
            "Speed: 2.3ms preprocess, 86.5ms inference, 0.6ms postprocess per image at shape (1, 3, 416, 640)\n"
          ]
        }
      ]
    }
  ]
}